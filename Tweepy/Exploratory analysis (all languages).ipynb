{
 "cells": [
  {
   "cell_type": "code",
   "execution_count": 1,
   "metadata": {},
   "outputs": [],
   "source": [
    "import pandas as pd\n",
    "import matplotlib.pyplot as plt"
   ]
  },
  {
   "cell_type": "code",
   "execution_count": 2,
   "metadata": {},
   "outputs": [
    {
     "data": {
      "text/html": [
       "<div>\n",
       "<style scoped>\n",
       "    .dataframe tbody tr th:only-of-type {\n",
       "        vertical-align: middle;\n",
       "    }\n",
       "\n",
       "    .dataframe tbody tr th {\n",
       "        vertical-align: top;\n",
       "    }\n",
       "\n",
       "    .dataframe thead th {\n",
       "        text-align: right;\n",
       "    }\n",
       "</style>\n",
       "<table border=\"1\" class=\"dataframe\">\n",
       "  <thead>\n",
       "    <tr style=\"text-align: right;\">\n",
       "      <th></th>\n",
       "      <th>text</th>\n",
       "      <th>lang</th>\n",
       "      <th>country</th>\n",
       "      <th>date</th>\n",
       "      <th>user_name</th>\n",
       "      <th>user_id</th>\n",
       "      <th>nb_of_tweets</th>\n",
       "      <th>user_creation_date</th>\n",
       "      <th>verified</th>\n",
       "      <th>filter_level</th>\n",
       "      <th>favorite</th>\n",
       "      <th>retweet</th>\n",
       "      <th>url</th>\n",
       "    </tr>\n",
       "  </thead>\n",
       "  <tbody>\n",
       "    <tr>\n",
       "      <th>0</th>\n",
       "      <td>JUST IN: US Treasury Office propose new rule t...</td>\n",
       "      <td>en</td>\n",
       "      <td>None</td>\n",
       "      <td>Sat Nov 21 17:30:27 +0000 2020</td>\n",
       "      <td>LiviN</td>\n",
       "      <td>1201027291</td>\n",
       "      <td>25459</td>\n",
       "      <td>Wed Feb 20 13:23:38 +0000 2013</td>\n",
       "      <td>0</td>\n",
       "      <td>low</td>\n",
       "      <td>0</td>\n",
       "      <td>0</td>\n",
       "      <td>0</td>\n",
       "    </tr>\n",
       "    <tr>\n",
       "      <th>1</th>\n",
       "      <td>The Bullish Case for #Bitcoin\\n@real_vijay \\n👉...</td>\n",
       "      <td>en</td>\n",
       "      <td>None</td>\n",
       "      <td>Sat Nov 21 17:30:28 +0000 2020</td>\n",
       "      <td>StormJib.HODL</td>\n",
       "      <td>15893397</td>\n",
       "      <td>3313</td>\n",
       "      <td>Mon Aug 18 16:31:04 +0000 2008</td>\n",
       "      <td>0</td>\n",
       "      <td>low</td>\n",
       "      <td>0</td>\n",
       "      <td>0</td>\n",
       "      <td>1</td>\n",
       "    </tr>\n",
       "    <tr>\n",
       "      <th>2</th>\n",
       "      <td>BITCOIN MOONING STEP BY STEP UPWARD TO $26,000...</td>\n",
       "      <td>en</td>\n",
       "      <td>None</td>\n",
       "      <td>Sat Nov 21 17:30:28 +0000 2020</td>\n",
       "      <td>George Fish</td>\n",
       "      <td>109361772</td>\n",
       "      <td>39</td>\n",
       "      <td>Thu Jan 28 20:23:57 +0000 2010</td>\n",
       "      <td>0</td>\n",
       "      <td>low</td>\n",
       "      <td>0</td>\n",
       "      <td>0</td>\n",
       "      <td>1</td>\n",
       "    </tr>\n",
       "    <tr>\n",
       "      <th>3</th>\n",
       "      <td>RT @Thunderblunder7: pokemon showdown was made...</td>\n",
       "      <td>en</td>\n",
       "      <td>None</td>\n",
       "      <td>Sat Nov 21 17:30:28 +0000 2020</td>\n",
       "      <td>Brandon 🐝🌳🇬🇭🖤 #JoyconBoy</td>\n",
       "      <td>1027954637331202049</td>\n",
       "      <td>67326</td>\n",
       "      <td>Fri Aug 10 16:27:38 +0000 2018</td>\n",
       "      <td>0</td>\n",
       "      <td>low</td>\n",
       "      <td>0</td>\n",
       "      <td>0</td>\n",
       "      <td>0</td>\n",
       "    </tr>\n",
       "    <tr>\n",
       "      <th>4</th>\n",
       "      <td>I recently discussed inflation/deflation, stim...</td>\n",
       "      <td>en</td>\n",
       "      <td>None</td>\n",
       "      <td>Sat Nov 21 17:30:28 +0000 2020</td>\n",
       "      <td>Altperspective</td>\n",
       "      <td>837994867028459521</td>\n",
       "      <td>364</td>\n",
       "      <td>Sat Mar 04 11:55:20 +0000 2017</td>\n",
       "      <td>0</td>\n",
       "      <td>low</td>\n",
       "      <td>0</td>\n",
       "      <td>0</td>\n",
       "      <td>0</td>\n",
       "    </tr>\n",
       "    <tr>\n",
       "      <th>...</th>\n",
       "      <td>...</td>\n",
       "      <td>...</td>\n",
       "      <td>...</td>\n",
       "      <td>...</td>\n",
       "      <td>...</td>\n",
       "      <td>...</td>\n",
       "      <td>...</td>\n",
       "      <td>...</td>\n",
       "      <td>...</td>\n",
       "      <td>...</td>\n",
       "      <td>...</td>\n",
       "      <td>...</td>\n",
       "      <td>...</td>\n",
       "    </tr>\n",
       "    <tr>\n",
       "      <th>707713</th>\n",
       "      <td>RT @MMCrypto: #BITCOIN JUST BROKE THE 2019 HIG...</td>\n",
       "      <td>en</td>\n",
       "      <td>None</td>\n",
       "      <td>Sat Oct 31 11:49:43 +0000 2020</td>\n",
       "      <td>cryptoboss💥</td>\n",
       "      <td>4160950469</td>\n",
       "      <td>5946</td>\n",
       "      <td>Wed Nov 11 03:00:06 +0000 2015</td>\n",
       "      <td>0</td>\n",
       "      <td>low</td>\n",
       "      <td>0</td>\n",
       "      <td>0</td>\n",
       "      <td>0</td>\n",
       "    </tr>\n",
       "    <tr>\n",
       "      <th>707714</th>\n",
       "      <td>Sana all whale 👀</td>\n",
       "      <td>en</td>\n",
       "      <td>None</td>\n",
       "      <td>Sat Oct 31 11:49:43 +0000 2020</td>\n",
       "      <td>Jazz G🍀</td>\n",
       "      <td>996004058640007169</td>\n",
       "      <td>10411</td>\n",
       "      <td>Mon May 14 12:27:27 +0000 2018</td>\n",
       "      <td>0</td>\n",
       "      <td>low</td>\n",
       "      <td>0</td>\n",
       "      <td>0</td>\n",
       "      <td>0</td>\n",
       "    </tr>\n",
       "    <tr>\n",
       "      <th>707715</th>\n",
       "      <td>RT @BarrySilbert: Hi @stoolpresidente, please ...</td>\n",
       "      <td>en</td>\n",
       "      <td>None</td>\n",
       "      <td>Sat Oct 31 11:49:43 +0000 2020</td>\n",
       "      <td>Светик Алимова</td>\n",
       "      <td>926774522161782785</td>\n",
       "      <td>78</td>\n",
       "      <td>Sat Nov 04 11:33:59 +0000 2017</td>\n",
       "      <td>0</td>\n",
       "      <td>low</td>\n",
       "      <td>0</td>\n",
       "      <td>0</td>\n",
       "      <td>0</td>\n",
       "    </tr>\n",
       "    <tr>\n",
       "      <th>707716</th>\n",
       "      <td>RT @100trillionUSD: Best present on #Bitcoin w...</td>\n",
       "      <td>en</td>\n",
       "      <td>None</td>\n",
       "      <td>Sat Oct 31 11:49:43 +0000 2020</td>\n",
       "      <td>Loedere.eth 🇧🇪 - ₿</td>\n",
       "      <td>420490529</td>\n",
       "      <td>7707</td>\n",
       "      <td>Thu Nov 24 18:03:50 +0000 2011</td>\n",
       "      <td>0</td>\n",
       "      <td>low</td>\n",
       "      <td>0</td>\n",
       "      <td>0</td>\n",
       "      <td>0</td>\n",
       "    </tr>\n",
       "    <tr>\n",
       "      <th>707717</th>\n",
       "      <td>#Bitcoin price on 31st Oct (whitepaper day 🎉)\\...</td>\n",
       "      <td>en</td>\n",
       "      <td>None</td>\n",
       "      <td>Sat Oct 31 11:49:43 +0000 2020</td>\n",
       "      <td>Alberto Bacó</td>\n",
       "      <td>1090641704</td>\n",
       "      <td>31559</td>\n",
       "      <td>Tue Jan 15 01:01:24 +0000 2013</td>\n",
       "      <td>0</td>\n",
       "      <td>low</td>\n",
       "      <td>0</td>\n",
       "      <td>0</td>\n",
       "      <td>0</td>\n",
       "    </tr>\n",
       "  </tbody>\n",
       "</table>\n",
       "<p>707718 rows × 13 columns</p>\n",
       "</div>"
      ],
      "text/plain": [
       "                                                     text lang country  \\\n",
       "0       JUST IN: US Treasury Office propose new rule t...   en    None   \n",
       "1       The Bullish Case for #Bitcoin\\n@real_vijay \\n👉...   en    None   \n",
       "2       BITCOIN MOONING STEP BY STEP UPWARD TO $26,000...   en    None   \n",
       "3       RT @Thunderblunder7: pokemon showdown was made...   en    None   \n",
       "4       I recently discussed inflation/deflation, stim...   en    None   \n",
       "...                                                   ...  ...     ...   \n",
       "707713  RT @MMCrypto: #BITCOIN JUST BROKE THE 2019 HIG...   en    None   \n",
       "707714                                   Sana all whale 👀   en    None   \n",
       "707715  RT @BarrySilbert: Hi @stoolpresidente, please ...   en    None   \n",
       "707716  RT @100trillionUSD: Best present on #Bitcoin w...   en    None   \n",
       "707717  #Bitcoin price on 31st Oct (whitepaper day 🎉)\\...   en    None   \n",
       "\n",
       "                                  date                 user_name  \\\n",
       "0       Sat Nov 21 17:30:27 +0000 2020                     LiviN   \n",
       "1       Sat Nov 21 17:30:28 +0000 2020             StormJib.HODL   \n",
       "2       Sat Nov 21 17:30:28 +0000 2020               George Fish   \n",
       "3       Sat Nov 21 17:30:28 +0000 2020  Brandon 🐝🌳🇬🇭🖤 #JoyconBoy   \n",
       "4       Sat Nov 21 17:30:28 +0000 2020            Altperspective   \n",
       "...                                ...                       ...   \n",
       "707713  Sat Oct 31 11:49:43 +0000 2020               cryptoboss💥   \n",
       "707714  Sat Oct 31 11:49:43 +0000 2020                   Jazz G🍀   \n",
       "707715  Sat Oct 31 11:49:43 +0000 2020            Светик Алимова   \n",
       "707716  Sat Oct 31 11:49:43 +0000 2020        Loedere.eth 🇧🇪 - ₿   \n",
       "707717  Sat Oct 31 11:49:43 +0000 2020              Alberto Bacó   \n",
       "\n",
       "                    user_id  nb_of_tweets              user_creation_date  \\\n",
       "0                1201027291         25459  Wed Feb 20 13:23:38 +0000 2013   \n",
       "1                  15893397          3313  Mon Aug 18 16:31:04 +0000 2008   \n",
       "2                 109361772            39  Thu Jan 28 20:23:57 +0000 2010   \n",
       "3       1027954637331202049         67326  Fri Aug 10 16:27:38 +0000 2018   \n",
       "4        837994867028459521           364  Sat Mar 04 11:55:20 +0000 2017   \n",
       "...                     ...           ...                             ...   \n",
       "707713           4160950469          5946  Wed Nov 11 03:00:06 +0000 2015   \n",
       "707714   996004058640007169         10411  Mon May 14 12:27:27 +0000 2018   \n",
       "707715   926774522161782785            78  Sat Nov 04 11:33:59 +0000 2017   \n",
       "707716            420490529          7707  Thu Nov 24 18:03:50 +0000 2011   \n",
       "707717           1090641704         31559  Tue Jan 15 01:01:24 +0000 2013   \n",
       "\n",
       "        verified filter_level  favorite  retweet  url  \n",
       "0              0          low         0        0    0  \n",
       "1              0          low         0        0    1  \n",
       "2              0          low         0        0    1  \n",
       "3              0          low         0        0    0  \n",
       "4              0          low         0        0    0  \n",
       "...          ...          ...       ...      ...  ...  \n",
       "707713         0          low         0        0    0  \n",
       "707714         0          low         0        0    0  \n",
       "707715         0          low         0        0    0  \n",
       "707716         0          low         0        0    0  \n",
       "707717         0          low         0        0    0  \n",
       "\n",
       "[707718 rows x 13 columns]"
      ]
     },
     "execution_count": 2,
     "metadata": {},
     "output_type": "execute_result"
    }
   ],
   "source": [
    "#To make it faster for data retrieval : load directly the complete dataset\n",
    "tweets = pd.read_excel(\"/Users/GuillaumeKunsch/Desktop/TFM_Guillaume_Kunsch/Tweepy/tweets.xlsx\")                  \n",
    "tweets"
   ]
  },
  {
   "cell_type": "code",
   "execution_count": 3,
   "metadata": {},
   "outputs": [
    {
     "name": "stdout",
     "output_type": "stream",
     "text": [
      "<class 'pandas.core.frame.DataFrame'>\n",
      "RangeIndex: 707718 entries, 0 to 707717\n",
      "Data columns (total 13 columns):\n",
      " #   Column              Non-Null Count   Dtype \n",
      "---  ------              --------------   ----- \n",
      " 0   text                707718 non-null  object\n",
      " 1   lang                707718 non-null  object\n",
      " 2   country             707716 non-null  object\n",
      " 3   date                707718 non-null  object\n",
      " 4   user_name           707685 non-null  object\n",
      " 5   user_id             707718 non-null  int64 \n",
      " 6   nb_of_tweets        707718 non-null  int64 \n",
      " 7   user_creation_date  707718 non-null  object\n",
      " 8   verified            707718 non-null  int64 \n",
      " 9   filter_level        707718 non-null  object\n",
      " 10  favorite            707718 non-null  int64 \n",
      " 11  retweet             707718 non-null  int64 \n",
      " 12  url                 707718 non-null  int64 \n",
      "dtypes: int64(6), object(7)\n",
      "memory usage: 70.2+ MB\n"
     ]
    }
   ],
   "source": [
    "#Some data on country and user name is missing\n",
    "tweets.info()"
   ]
  },
  {
   "cell_type": "markdown",
   "metadata": {},
   "source": [
    "# Languages analysis"
   ]
  },
  {
   "cell_type": "code",
   "execution_count": 4,
   "metadata": {},
   "outputs": [
    {
     "data": {
      "text/plain": [
       "<matplotlib.axes._subplots.AxesSubplot at 0x7fe4c8b4f690>"
      ]
     },
     "execution_count": 4,
     "metadata": {},
     "output_type": "execute_result"
    },
    {
     "data": {
      "image/png": "[encoded data removed]",
      "text/plain": [
       "<Figure size 432x288 with 1 Axes>"
      ]
     },
     "metadata": {
      "needs_background": "light"
     },
     "output_type": "display_data"
    }
   ],
   "source": [
    "tweets_by_lang = tweets['lang'].value_counts()\n",
    "\n",
    "fig, ax = plt.subplots()\n",
    "ax.tick_params(axis='x', labelsize=15)\n",
    "ax.tick_params(axis='y', labelsize=10)\n",
    "ax.set_xlabel('Languages', fontsize=15)\n",
    "ax.set_ylabel('Number of tweets' , fontsize=15)\n",
    "ax.set_title('Top 5 languages', fontsize=15, fontweight='bold')\n",
    "tweets_by_lang[:5].plot(ax=ax, kind='bar', color='red')"
   ]
  },
  {
   "cell_type": "markdown",
   "metadata": {},
   "source": [
    "# Location analysis (biased because most tweets doesn't have their location)"
   ]
  },
  {
   "cell_type": "code",
   "execution_count": 5,
   "metadata": {},
   "outputs": [
    {
     "data": {
      "image/png": "[encoded data removed]",
      "text/plain": [
       "<Figure size 432x288 with 1 Axes>"
      ]
     },
     "metadata": {
      "needs_background": "light"
     },
     "output_type": "display_data"
    }
   ],
   "source": [
    "tweets_by_country = tweets['country'].value_counts()\n",
    "\n",
    "fig, ax = plt.subplots()\n",
    "ax.tick_params(axis='x', labelsize=15)\n",
    "ax.tick_params(axis='y', labelsize=10)\n",
    "ax.set_xlabel('Countries', fontsize=15)\n",
    "ax.set_ylabel('Number of tweets' , fontsize=15)\n",
    "ax.set_title('Top 5 countries', fontsize=15, fontweight='bold')\n",
    "tweets_by_country[:5].plot(ax=ax, kind='bar', color='blue')\n",
    "fig.autofmt_xdate()"
   ]
  },
  {
   "cell_type": "code",
   "execution_count": 6,
   "metadata": {},
   "outputs": [
    {
     "data": {
      "image/png": "[encoded data removed]",
      "text/plain": [
       "<Figure size 432x288 with 1 Axes>"
      ]
     },
     "metadata": {
      "needs_background": "light"
     },
     "output_type": "display_data"
    }
   ],
   "source": [
    "tweets_by_country = tweets['country'].value_counts()\n",
    "\n",
    "fig, ax = plt.subplots()\n",
    "ax.tick_params(axis='x', labelsize=15)\n",
    "ax.tick_params(axis='y', labelsize=10)\n",
    "ax.set_xlabel('Countries', fontsize=15)\n",
    "ax.set_ylabel('Number of tweets' , fontsize=15)\n",
    "ax.set_title('Top 5 countries', fontsize=15, fontweight='bold')\n",
    "tweets_by_country[1:6].plot(ax=ax, kind='bar', color='blue')\n",
    "fig.autofmt_xdate()"
   ]
  },
  {
   "cell_type": "markdown",
   "metadata": {},
   "source": [
    "# Analysis of tweets' date"
   ]
  },
  {
   "cell_type": "code",
   "execution_count": 7,
   "metadata": {},
   "outputs": [],
   "source": [
    "hours = []\n",
    "for date in tweets[\"date\"]: #to keep only the hour\n",
    "    hours.append(date[10:19])\n",
    "tweets[\"hour\"] = hours\n",
    "\n",
    "dates = []\n",
    "for date in tweets[\"date\"]: #to keep only the date\n",
    "    dates.append(date[:10])\n",
    "tweets[\"new_date\"] = dates\n",
    "\n",
    "year = []\n",
    "for date in tweets[\"date\"]: #to keep only the year\n",
    "    year.append(date[26:])\n",
    "tweets[\"year\"] = year\n",
    "\n",
    "\n",
    "import datetime\n",
    "\n",
    "date_format = []\n",
    "\n",
    "equivalent_m = {\"Jan\" : 1, \"Feb\" : 2, \"Mar\" : 3, \"Apr\" : 4, \"May\" : 5, \"Jun\": 6, \"Jul\" : 7, \"Aug\" : 8, \"Sep\" : 9, \"Oct\": 10, \"Nov\": 11, \"Dec\": 12}\n",
    "\n",
    "for index, row in tweets.iterrows() :\n",
    "    day = int(row[\"new_date\"][8:])\n",
    "    month = int(equivalent_m[row[\"new_date\"][4:7]])\n",
    "    year = int(row[\"year\"])\n",
    "    date_format.append(datetime.date(year,month,day))\n",
    "    \n",
    "tweets[\"date_format\"] = date_format\n",
    "\n",
    "day_of_the_week=[]\n",
    "equivalent_w = {\"Mon\" : 1, \"Tue\" : 2, \"Wed\" : 3, \"Thu\" : 4, \"Fri\" : 5, \"Sat\": 6, \"Sun\" : 7}\n",
    "\n",
    "for date in tweets[\"new_date\"]: \n",
    "    day = int(equivalent_w[date[:3]])\n",
    "    day_of_the_week.append(day)\n",
    "    \n",
    "tweets[\"day\"] = day_of_the_week #to store which day of the week the tweet was posted\n"
   ]
  },
  {
   "cell_type": "code",
   "execution_count": 8,
   "metadata": {},
   "outputs": [
    {
     "data": {
      "text/html": [
       "<div>\n",
       "<style scoped>\n",
       "    .dataframe tbody tr th:only-of-type {\n",
       "        vertical-align: middle;\n",
       "    }\n",
       "\n",
       "    .dataframe tbody tr th {\n",
       "        vertical-align: top;\n",
       "    }\n",
       "\n",
       "    .dataframe thead th {\n",
       "        text-align: right;\n",
       "    }\n",
       "</style>\n",
       "<table border=\"1\" class=\"dataframe\">\n",
       "  <thead>\n",
       "    <tr style=\"text-align: right;\">\n",
       "      <th></th>\n",
       "      <th>text</th>\n",
       "      <th>lang</th>\n",
       "      <th>country</th>\n",
       "      <th>date</th>\n",
       "      <th>user_name</th>\n",
       "      <th>user_id</th>\n",
       "      <th>nb_of_tweets</th>\n",
       "      <th>user_creation_date</th>\n",
       "      <th>verified</th>\n",
       "      <th>filter_level</th>\n",
       "      <th>favorite</th>\n",
       "      <th>retweet</th>\n",
       "      <th>url</th>\n",
       "      <th>hour</th>\n",
       "      <th>date_format</th>\n",
       "      <th>day</th>\n",
       "    </tr>\n",
       "  </thead>\n",
       "  <tbody>\n",
       "    <tr>\n",
       "      <th>0</th>\n",
       "      <td>JUST IN: US Treasury Office propose new rule t...</td>\n",
       "      <td>en</td>\n",
       "      <td>None</td>\n",
       "      <td>Sat Nov 21 17:30:27 +0000 2020</td>\n",
       "      <td>LiviN</td>\n",
       "      <td>1201027291</td>\n",
       "      <td>25459</td>\n",
       "      <td>Wed Feb 20 13:23:38 +0000 2013</td>\n",
       "      <td>0</td>\n",
       "      <td>low</td>\n",
       "      <td>0</td>\n",
       "      <td>0</td>\n",
       "      <td>0</td>\n",
       "      <td>17:30:27</td>\n",
       "      <td>2020-11-21</td>\n",
       "      <td>6</td>\n",
       "    </tr>\n",
       "    <tr>\n",
       "      <th>1</th>\n",
       "      <td>The Bullish Case for #Bitcoin\\n@real_vijay \\n👉...</td>\n",
       "      <td>en</td>\n",
       "      <td>None</td>\n",
       "      <td>Sat Nov 21 17:30:28 +0000 2020</td>\n",
       "      <td>StormJib.HODL</td>\n",
       "      <td>15893397</td>\n",
       "      <td>3313</td>\n",
       "      <td>Mon Aug 18 16:31:04 +0000 2008</td>\n",
       "      <td>0</td>\n",
       "      <td>low</td>\n",
       "      <td>0</td>\n",
       "      <td>0</td>\n",
       "      <td>1</td>\n",
       "      <td>17:30:28</td>\n",
       "      <td>2020-11-21</td>\n",
       "      <td>6</td>\n",
       "    </tr>\n",
       "    <tr>\n",
       "      <th>2</th>\n",
       "      <td>BITCOIN MOONING STEP BY STEP UPWARD TO $26,000...</td>\n",
       "      <td>en</td>\n",
       "      <td>None</td>\n",
       "      <td>Sat Nov 21 17:30:28 +0000 2020</td>\n",
       "      <td>George Fish</td>\n",
       "      <td>109361772</td>\n",
       "      <td>39</td>\n",
       "      <td>Thu Jan 28 20:23:57 +0000 2010</td>\n",
       "      <td>0</td>\n",
       "      <td>low</td>\n",
       "      <td>0</td>\n",
       "      <td>0</td>\n",
       "      <td>1</td>\n",
       "      <td>17:30:28</td>\n",
       "      <td>2020-11-21</td>\n",
       "      <td>6</td>\n",
       "    </tr>\n",
       "    <tr>\n",
       "      <th>3</th>\n",
       "      <td>RT @Thunderblunder7: pokemon showdown was made...</td>\n",
       "      <td>en</td>\n",
       "      <td>None</td>\n",
       "      <td>Sat Nov 21 17:30:28 +0000 2020</td>\n",
       "      <td>Brandon 🐝🌳🇬🇭🖤 #JoyconBoy</td>\n",
       "      <td>1027954637331202049</td>\n",
       "      <td>67326</td>\n",
       "      <td>Fri Aug 10 16:27:38 +0000 2018</td>\n",
       "      <td>0</td>\n",
       "      <td>low</td>\n",
       "      <td>0</td>\n",
       "      <td>0</td>\n",
       "      <td>0</td>\n",
       "      <td>17:30:28</td>\n",
       "      <td>2020-11-21</td>\n",
       "      <td>6</td>\n",
       "    </tr>\n",
       "    <tr>\n",
       "      <th>4</th>\n",
       "      <td>I recently discussed inflation/deflation, stim...</td>\n",
       "      <td>en</td>\n",
       "      <td>None</td>\n",
       "      <td>Sat Nov 21 17:30:28 +0000 2020</td>\n",
       "      <td>Altperspective</td>\n",
       "      <td>837994867028459521</td>\n",
       "      <td>364</td>\n",
       "      <td>Sat Mar 04 11:55:20 +0000 2017</td>\n",
       "      <td>0</td>\n",
       "      <td>low</td>\n",
       "      <td>0</td>\n",
       "      <td>0</td>\n",
       "      <td>0</td>\n",
       "      <td>17:30:28</td>\n",
       "      <td>2020-11-21</td>\n",
       "      <td>6</td>\n",
       "    </tr>\n",
       "  </tbody>\n",
       "</table>\n",
       "</div>"
      ],
      "text/plain": [
       "                                                text lang country  \\\n",
       "0  JUST IN: US Treasury Office propose new rule t...   en    None   \n",
       "1  The Bullish Case for #Bitcoin\\n@real_vijay \\n👉...   en    None   \n",
       "2  BITCOIN MOONING STEP BY STEP UPWARD TO $26,000...   en    None   \n",
       "3  RT @Thunderblunder7: pokemon showdown was made...   en    None   \n",
       "4  I recently discussed inflation/deflation, stim...   en    None   \n",
       "\n",
       "                             date                 user_name  \\\n",
       "0  Sat Nov 21 17:30:27 +0000 2020                     LiviN   \n",
       "1  Sat Nov 21 17:30:28 +0000 2020             StormJib.HODL   \n",
       "2  Sat Nov 21 17:30:28 +0000 2020               George Fish   \n",
       "3  Sat Nov 21 17:30:28 +0000 2020  Brandon 🐝🌳🇬🇭🖤 #JoyconBoy   \n",
       "4  Sat Nov 21 17:30:28 +0000 2020            Altperspective   \n",
       "\n",
       "               user_id  nb_of_tweets              user_creation_date  \\\n",
       "0           1201027291         25459  Wed Feb 20 13:23:38 +0000 2013   \n",
       "1             15893397          3313  Mon Aug 18 16:31:04 +0000 2008   \n",
       "2            109361772            39  Thu Jan 28 20:23:57 +0000 2010   \n",
       "3  1027954637331202049         67326  Fri Aug 10 16:27:38 +0000 2018   \n",
       "4   837994867028459521           364  Sat Mar 04 11:55:20 +0000 2017   \n",
       "\n",
       "   verified filter_level  favorite  retweet  url       hour date_format  day  \n",
       "0         0          low         0        0    0   17:30:27  2020-11-21    6  \n",
       "1         0          low         0        0    1   17:30:28  2020-11-21    6  \n",
       "2         0          low         0        0    1   17:30:28  2020-11-21    6  \n",
       "3         0          low         0        0    0   17:30:28  2020-11-21    6  \n",
       "4         0          low         0        0    0   17:30:28  2020-11-21    6  "
      ]
     },
     "execution_count": 8,
     "metadata": {},
     "output_type": "execute_result"
    }
   ],
   "source": [
    "tweets = tweets.drop(columns = [\"new_date\", \"year\"])\n",
    "tweets.head()"
   ]
  },
  {
   "cell_type": "code",
   "execution_count": 9,
   "metadata": {},
   "outputs": [
    {
     "data": {
      "image/png": "[encoded data removed]",
      "text/plain": [
       "<Figure size 432x288 with 1 Axes>"
      ]
     },
     "metadata": {
      "needs_background": "light"
     },
     "output_type": "display_data"
    }
   ],
   "source": [
    "date_analysis = tweets.groupby(by=\"date_format\").count()\n",
    "date_analysis = date_analysis.reset_index()\n",
    "\n",
    "x = date_analysis[\"date_format\"]\n",
    "y= date_analysis[\"text\"] #whatever column (different of date_format) may work \n",
    "fig, ax = plt.subplots()\n",
    "ax.tick_params(axis='x', labelsize=10)\n",
    "ax.tick_params(axis='y', labelsize=10)\n",
    "ax.set_xlabel('Date', fontsize=15)\n",
    "ax.set_ylabel('Number of tweets' , fontsize=15)\n",
    "ax.set_title('Tweets per day', fontsize=15, fontweight='bold')\n",
    "plt.bar(x,y, color = \"blue\")\n",
    "fig.autofmt_xdate()"
   ]
  },
  {
   "cell_type": "markdown",
   "metadata": {},
   "source": [
    "# Users analysis"
   ]
  },
  {
   "cell_type": "code",
   "execution_count": 10,
   "metadata": {},
   "outputs": [
    {
     "data": {
      "image/png": "[encoded data removed]",
      "text/plain": [
       "<Figure size 432x288 with 1 Axes>"
      ]
     },
     "metadata": {
      "needs_background": "light"
     },
     "output_type": "display_data"
    }
   ],
   "source": [
    "tweets_per_user = tweets['user_id'].value_counts()\n",
    "\n",
    "fig, ax = plt.subplots()\n",
    "ax.tick_params(axis='x', labelsize=15)\n",
    "ax.tick_params(axis='y', labelsize=10)\n",
    "ax.axes.xaxis.set_visible(False)\n",
    "ax.set_xlabel('Users', fontsize=15)\n",
    "ax.set_ylabel('Number of tweets' , fontsize=15)\n",
    "ax.set_title('Tweets per user in database', fontsize=15, fontweight='bold')\n",
    "tweets_per_user.plot(ax=ax, kind='bar', color='blue')\n",
    "fig.autofmt_xdate()"
   ]
  },
  {
   "cell_type": "code",
   "execution_count": 11,
   "metadata": {},
   "outputs": [
    {
     "data": {
      "image/png": "[encoded data removed]",
      "text/plain": [
       "<Figure size 432x288 with 1 Axes>"
      ]
     },
     "metadata": {
      "needs_background": "light"
     },
     "output_type": "display_data"
    }
   ],
   "source": [
    "tweets_per_user = tweets['user_id'].value_counts()\n",
    "\n",
    "fig, ax = plt.subplots()\n",
    "ax.tick_params(axis='x', labelsize=15)\n",
    "ax.tick_params(axis='y', labelsize=10)\n",
    "ax.axes.xaxis.set_visible(False)\n",
    "ax.set_xlabel('Users', fontsize=15)\n",
    "ax.set_ylabel('Number of tweets' , fontsize=15)\n",
    "ax.set_title('Tweets per user in database (Top 100)', fontsize=15, fontweight='bold')\n",
    "tweets_per_user[0:100].plot(ax=ax, kind='bar', color='blue')\n",
    "fig.autofmt_xdate()"
   ]
  },
  {
   "cell_type": "code",
   "execution_count": 12,
   "metadata": {},
   "outputs": [
    {
     "data": {
      "text/plain": [
       "232528"
      ]
     },
     "execution_count": 12,
     "metadata": {},
     "output_type": "execute_result"
    }
   ],
   "source": [
    "#Number of users in database\n",
    "tweets['user_id'].nunique()"
   ]
  },
  {
   "cell_type": "code",
   "execution_count": 13,
   "metadata": {},
   "outputs": [
    {
     "data": {
      "text/html": [
       "<div>\n",
       "<style scoped>\n",
       "    .dataframe tbody tr th:only-of-type {\n",
       "        vertical-align: middle;\n",
       "    }\n",
       "\n",
       "    .dataframe tbody tr th {\n",
       "        vertical-align: top;\n",
       "    }\n",
       "\n",
       "    .dataframe thead th {\n",
       "        text-align: right;\n",
       "    }\n",
       "</style>\n",
       "<table border=\"1\" class=\"dataframe\">\n",
       "  <thead>\n",
       "    <tr style=\"text-align: right;\">\n",
       "      <th></th>\n",
       "      <th>text</th>\n",
       "      <th>lang</th>\n",
       "      <th>country</th>\n",
       "      <th>date</th>\n",
       "      <th>user_name</th>\n",
       "      <th>user_id</th>\n",
       "      <th>nb_of_tweets</th>\n",
       "      <th>user_creation_date</th>\n",
       "      <th>verified</th>\n",
       "      <th>filter_level</th>\n",
       "      <th>favorite</th>\n",
       "      <th>retweet</th>\n",
       "      <th>url</th>\n",
       "      <th>hour</th>\n",
       "      <th>date_format</th>\n",
       "      <th>day</th>\n",
       "      <th>user_creation_date_format</th>\n",
       "    </tr>\n",
       "  </thead>\n",
       "  <tbody>\n",
       "    <tr>\n",
       "      <th>0</th>\n",
       "      <td>JUST IN: US Treasury Office propose new rule t...</td>\n",
       "      <td>en</td>\n",
       "      <td>None</td>\n",
       "      <td>Sat Nov 21 17:30:27 +0000 2020</td>\n",
       "      <td>LiviN</td>\n",
       "      <td>1201027291</td>\n",
       "      <td>25459</td>\n",
       "      <td>Wed Feb 20 13:23:38 +0000 2013</td>\n",
       "      <td>0</td>\n",
       "      <td>low</td>\n",
       "      <td>0</td>\n",
       "      <td>0</td>\n",
       "      <td>0</td>\n",
       "      <td>17:30:27</td>\n",
       "      <td>2020-11-21</td>\n",
       "      <td>6</td>\n",
       "      <td>2013-02-20</td>\n",
       "    </tr>\n",
       "    <tr>\n",
       "      <th>1</th>\n",
       "      <td>The Bullish Case for #Bitcoin\\n@real_vijay \\n👉...</td>\n",
       "      <td>en</td>\n",
       "      <td>None</td>\n",
       "      <td>Sat Nov 21 17:30:28 +0000 2020</td>\n",
       "      <td>StormJib.HODL</td>\n",
       "      <td>15893397</td>\n",
       "      <td>3313</td>\n",
       "      <td>Mon Aug 18 16:31:04 +0000 2008</td>\n",
       "      <td>0</td>\n",
       "      <td>low</td>\n",
       "      <td>0</td>\n",
       "      <td>0</td>\n",
       "      <td>1</td>\n",
       "      <td>17:30:28</td>\n",
       "      <td>2020-11-21</td>\n",
       "      <td>6</td>\n",
       "      <td>2008-08-18</td>\n",
       "    </tr>\n",
       "    <tr>\n",
       "      <th>2</th>\n",
       "      <td>BITCOIN MOONING STEP BY STEP UPWARD TO $26,000...</td>\n",
       "      <td>en</td>\n",
       "      <td>None</td>\n",
       "      <td>Sat Nov 21 17:30:28 +0000 2020</td>\n",
       "      <td>George Fish</td>\n",
       "      <td>109361772</td>\n",
       "      <td>39</td>\n",
       "      <td>Thu Jan 28 20:23:57 +0000 2010</td>\n",
       "      <td>0</td>\n",
       "      <td>low</td>\n",
       "      <td>0</td>\n",
       "      <td>0</td>\n",
       "      <td>1</td>\n",
       "      <td>17:30:28</td>\n",
       "      <td>2020-11-21</td>\n",
       "      <td>6</td>\n",
       "      <td>2010-01-28</td>\n",
       "    </tr>\n",
       "    <tr>\n",
       "      <th>3</th>\n",
       "      <td>RT @Thunderblunder7: pokemon showdown was made...</td>\n",
       "      <td>en</td>\n",
       "      <td>None</td>\n",
       "      <td>Sat Nov 21 17:30:28 +0000 2020</td>\n",
       "      <td>Brandon 🐝🌳🇬🇭🖤 #JoyconBoy</td>\n",
       "      <td>1027954637331202049</td>\n",
       "      <td>67326</td>\n",
       "      <td>Fri Aug 10 16:27:38 +0000 2018</td>\n",
       "      <td>0</td>\n",
       "      <td>low</td>\n",
       "      <td>0</td>\n",
       "      <td>0</td>\n",
       "      <td>0</td>\n",
       "      <td>17:30:28</td>\n",
       "      <td>2020-11-21</td>\n",
       "      <td>6</td>\n",
       "      <td>2018-08-10</td>\n",
       "    </tr>\n",
       "    <tr>\n",
       "      <th>4</th>\n",
       "      <td>I recently discussed inflation/deflation, stim...</td>\n",
       "      <td>en</td>\n",
       "      <td>None</td>\n",
       "      <td>Sat Nov 21 17:30:28 +0000 2020</td>\n",
       "      <td>Altperspective</td>\n",
       "      <td>837994867028459521</td>\n",
       "      <td>364</td>\n",
       "      <td>Sat Mar 04 11:55:20 +0000 2017</td>\n",
       "      <td>0</td>\n",
       "      <td>low</td>\n",
       "      <td>0</td>\n",
       "      <td>0</td>\n",
       "      <td>0</td>\n",
       "      <td>17:30:28</td>\n",
       "      <td>2020-11-21</td>\n",
       "      <td>6</td>\n",
       "      <td>2017-03-04</td>\n",
       "    </tr>\n",
       "  </tbody>\n",
       "</table>\n",
       "</div>"
      ],
      "text/plain": [
       "                                                text lang country  \\\n",
       "0  JUST IN: US Treasury Office propose new rule t...   en    None   \n",
       "1  The Bullish Case for #Bitcoin\\n@real_vijay \\n👉...   en    None   \n",
       "2  BITCOIN MOONING STEP BY STEP UPWARD TO $26,000...   en    None   \n",
       "3  RT @Thunderblunder7: pokemon showdown was made...   en    None   \n",
       "4  I recently discussed inflation/deflation, stim...   en    None   \n",
       "\n",
       "                             date                 user_name  \\\n",
       "0  Sat Nov 21 17:30:27 +0000 2020                     LiviN   \n",
       "1  Sat Nov 21 17:30:28 +0000 2020             StormJib.HODL   \n",
       "2  Sat Nov 21 17:30:28 +0000 2020               George Fish   \n",
       "3  Sat Nov 21 17:30:28 +0000 2020  Brandon 🐝🌳🇬🇭🖤 #JoyconBoy   \n",
       "4  Sat Nov 21 17:30:28 +0000 2020            Altperspective   \n",
       "\n",
       "               user_id  nb_of_tweets              user_creation_date  \\\n",
       "0           1201027291         25459  Wed Feb 20 13:23:38 +0000 2013   \n",
       "1             15893397          3313  Mon Aug 18 16:31:04 +0000 2008   \n",
       "2            109361772            39  Thu Jan 28 20:23:57 +0000 2010   \n",
       "3  1027954637331202049         67326  Fri Aug 10 16:27:38 +0000 2018   \n",
       "4   837994867028459521           364  Sat Mar 04 11:55:20 +0000 2017   \n",
       "\n",
       "   verified filter_level  favorite  retweet  url       hour date_format  day  \\\n",
       "0         0          low         0        0    0   17:30:27  2020-11-21    6   \n",
       "1         0          low         0        0    1   17:30:28  2020-11-21    6   \n",
       "2         0          low         0        0    1   17:30:28  2020-11-21    6   \n",
       "3         0          low         0        0    0   17:30:28  2020-11-21    6   \n",
       "4         0          low         0        0    0   17:30:28  2020-11-21    6   \n",
       "\n",
       "  user_creation_date_format  \n",
       "0                2013-02-20  \n",
       "1                2008-08-18  \n",
       "2                2010-01-28  \n",
       "3                2018-08-10  \n",
       "4                2017-03-04  "
      ]
     },
     "execution_count": 13,
     "metadata": {},
     "output_type": "execute_result"
    }
   ],
   "source": [
    "#Change date creation of user account to an adequate format : similar process to the one with the date of publication\n",
    "dates = []\n",
    "for date in tweets[\"user_creation_date\"]: #to keep only the date\n",
    "    dates.append(date[:10])\n",
    "tweets[\"new_date\"] = dates\n",
    "\n",
    "year = []\n",
    "for date in tweets[\"user_creation_date\"]: #to keep only the year\n",
    "    year.append(date[26:])\n",
    "tweets[\"year\"] = year\n",
    "\n",
    "date_format = []\n",
    "\n",
    "equivalent_m = {\"Jan\" : 1, \"Feb\" : 2, \"Mar\" : 3, \"Apr\" : 4, \"May\" : 5, \"Jun\": 6, \"Jul\" : 7, \"Aug\" : 8, \"Sep\" : 9, \"Oct\": 10, \"Nov\": 11, \"Dec\": 12}\n",
    "\n",
    "for index, row in tweets.iterrows() :\n",
    "    day = int(row[\"new_date\"][8:])\n",
    "    month = int(equivalent_m[row[\"new_date\"][4:7]])\n",
    "    year = int(row[\"year\"])\n",
    "    date_format.append(datetime.date(year,month,day))\n",
    "    \n",
    "tweets[\"user_creation_date_format\"] = date_format\n",
    "\n",
    "tweets = tweets.drop(columns = [\"new_date\", \"year\"])\n",
    "tweets.head()"
   ]
  },
  {
   "cell_type": "code",
   "execution_count": 14,
   "metadata": {},
   "outputs": [
    {
     "data": {
      "text/html": [
       "<div>\n",
       "<style scoped>\n",
       "    .dataframe tbody tr th:only-of-type {\n",
       "        vertical-align: middle;\n",
       "    }\n",
       "\n",
       "    .dataframe tbody tr th {\n",
       "        vertical-align: top;\n",
       "    }\n",
       "\n",
       "    .dataframe thead th {\n",
       "        text-align: right;\n",
       "    }\n",
       "</style>\n",
       "<table border=\"1\" class=\"dataframe\">\n",
       "  <thead>\n",
       "    <tr style=\"text-align: right;\">\n",
       "      <th></th>\n",
       "      <th>text</th>\n",
       "      <th>lang</th>\n",
       "      <th>country</th>\n",
       "      <th>date</th>\n",
       "      <th>user_name</th>\n",
       "      <th>user_id</th>\n",
       "      <th>nb_of_tweets</th>\n",
       "      <th>user_creation_date</th>\n",
       "      <th>verified</th>\n",
       "      <th>filter_level</th>\n",
       "      <th>favorite</th>\n",
       "      <th>retweet</th>\n",
       "      <th>url</th>\n",
       "      <th>hour</th>\n",
       "      <th>date_format</th>\n",
       "      <th>day</th>\n",
       "      <th>user_creation_date_format</th>\n",
       "      <th>tweets_per_day</th>\n",
       "    </tr>\n",
       "  </thead>\n",
       "  <tbody>\n",
       "    <tr>\n",
       "      <th>0</th>\n",
       "      <td>JUST IN: US Treasury Office propose new rule t...</td>\n",
       "      <td>en</td>\n",
       "      <td>None</td>\n",
       "      <td>Sat Nov 21 17:30:27 +0000 2020</td>\n",
       "      <td>LiviN</td>\n",
       "      <td>1201027291</td>\n",
       "      <td>25459</td>\n",
       "      <td>Wed Feb 20 13:23:38 +0000 2013</td>\n",
       "      <td>0</td>\n",
       "      <td>low</td>\n",
       "      <td>0</td>\n",
       "      <td>0</td>\n",
       "      <td>0</td>\n",
       "      <td>17:30:27</td>\n",
       "      <td>2020-11-21</td>\n",
       "      <td>6</td>\n",
       "      <td>2013-02-20</td>\n",
       "      <td>8.992935</td>\n",
       "    </tr>\n",
       "    <tr>\n",
       "      <th>1</th>\n",
       "      <td>The Bullish Case for #Bitcoin\\n@real_vijay \\n👉...</td>\n",
       "      <td>en</td>\n",
       "      <td>None</td>\n",
       "      <td>Sat Nov 21 17:30:28 +0000 2020</td>\n",
       "      <td>StormJib.HODL</td>\n",
       "      <td>15893397</td>\n",
       "      <td>3313</td>\n",
       "      <td>Mon Aug 18 16:31:04 +0000 2008</td>\n",
       "      <td>0</td>\n",
       "      <td>low</td>\n",
       "      <td>0</td>\n",
       "      <td>0</td>\n",
       "      <td>1</td>\n",
       "      <td>17:30:28</td>\n",
       "      <td>2020-11-21</td>\n",
       "      <td>6</td>\n",
       "      <td>2008-08-18</td>\n",
       "      <td>0.739839</td>\n",
       "    </tr>\n",
       "    <tr>\n",
       "      <th>2</th>\n",
       "      <td>BITCOIN MOONING STEP BY STEP UPWARD TO $26,000...</td>\n",
       "      <td>en</td>\n",
       "      <td>None</td>\n",
       "      <td>Sat Nov 21 17:30:28 +0000 2020</td>\n",
       "      <td>George Fish</td>\n",
       "      <td>109361772</td>\n",
       "      <td>39</td>\n",
       "      <td>Thu Jan 28 20:23:57 +0000 2010</td>\n",
       "      <td>0</td>\n",
       "      <td>low</td>\n",
       "      <td>0</td>\n",
       "      <td>0</td>\n",
       "      <td>1</td>\n",
       "      <td>17:30:28</td>\n",
       "      <td>2020-11-21</td>\n",
       "      <td>6</td>\n",
       "      <td>2010-01-28</td>\n",
       "      <td>0.009873</td>\n",
       "    </tr>\n",
       "    <tr>\n",
       "      <th>3</th>\n",
       "      <td>RT @Thunderblunder7: pokemon showdown was made...</td>\n",
       "      <td>en</td>\n",
       "      <td>None</td>\n",
       "      <td>Sat Nov 21 17:30:28 +0000 2020</td>\n",
       "      <td>Brandon 🐝🌳🇬🇭🖤 #JoyconBoy</td>\n",
       "      <td>1027954637331202049</td>\n",
       "      <td>67326</td>\n",
       "      <td>Fri Aug 10 16:27:38 +0000 2018</td>\n",
       "      <td>0</td>\n",
       "      <td>low</td>\n",
       "      <td>0</td>\n",
       "      <td>0</td>\n",
       "      <td>0</td>\n",
       "      <td>17:30:28</td>\n",
       "      <td>2020-11-21</td>\n",
       "      <td>6</td>\n",
       "      <td>2018-08-10</td>\n",
       "      <td>80.726619</td>\n",
       "    </tr>\n",
       "    <tr>\n",
       "      <th>4</th>\n",
       "      <td>I recently discussed inflation/deflation, stim...</td>\n",
       "      <td>en</td>\n",
       "      <td>None</td>\n",
       "      <td>Sat Nov 21 17:30:28 +0000 2020</td>\n",
       "      <td>Altperspective</td>\n",
       "      <td>837994867028459521</td>\n",
       "      <td>364</td>\n",
       "      <td>Sat Mar 04 11:55:20 +0000 2017</td>\n",
       "      <td>0</td>\n",
       "      <td>low</td>\n",
       "      <td>0</td>\n",
       "      <td>0</td>\n",
       "      <td>0</td>\n",
       "      <td>17:30:28</td>\n",
       "      <td>2020-11-21</td>\n",
       "      <td>6</td>\n",
       "      <td>2017-03-04</td>\n",
       "      <td>0.268041</td>\n",
       "    </tr>\n",
       "  </tbody>\n",
       "</table>\n",
       "</div>"
      ],
      "text/plain": [
       "                                                text lang country  \\\n",
       "0  JUST IN: US Treasury Office propose new rule t...   en    None   \n",
       "1  The Bullish Case for #Bitcoin\\n@real_vijay \\n👉...   en    None   \n",
       "2  BITCOIN MOONING STEP BY STEP UPWARD TO $26,000...   en    None   \n",
       "3  RT @Thunderblunder7: pokemon showdown was made...   en    None   \n",
       "4  I recently discussed inflation/deflation, stim...   en    None   \n",
       "\n",
       "                             date                 user_name  \\\n",
       "0  Sat Nov 21 17:30:27 +0000 2020                     LiviN   \n",
       "1  Sat Nov 21 17:30:28 +0000 2020             StormJib.HODL   \n",
       "2  Sat Nov 21 17:30:28 +0000 2020               George Fish   \n",
       "3  Sat Nov 21 17:30:28 +0000 2020  Brandon 🐝🌳🇬🇭🖤 #JoyconBoy   \n",
       "4  Sat Nov 21 17:30:28 +0000 2020            Altperspective   \n",
       "\n",
       "               user_id  nb_of_tweets              user_creation_date  \\\n",
       "0           1201027291         25459  Wed Feb 20 13:23:38 +0000 2013   \n",
       "1             15893397          3313  Mon Aug 18 16:31:04 +0000 2008   \n",
       "2            109361772            39  Thu Jan 28 20:23:57 +0000 2010   \n",
       "3  1027954637331202049         67326  Fri Aug 10 16:27:38 +0000 2018   \n",
       "4   837994867028459521           364  Sat Mar 04 11:55:20 +0000 2017   \n",
       "\n",
       "   verified filter_level  favorite  retweet  url       hour date_format  day  \\\n",
       "0         0          low         0        0    0   17:30:27  2020-11-21    6   \n",
       "1         0          low         0        0    1   17:30:28  2020-11-21    6   \n",
       "2         0          low         0        0    1   17:30:28  2020-11-21    6   \n",
       "3         0          low         0        0    0   17:30:28  2020-11-21    6   \n",
       "4         0          low         0        0    0   17:30:28  2020-11-21    6   \n",
       "\n",
       "  user_creation_date_format  tweets_per_day  \n",
       "0                2013-02-20        8.992935  \n",
       "1                2008-08-18        0.739839  \n",
       "2                2010-01-28        0.009873  \n",
       "3                2018-08-10       80.726619  \n",
       "4                2017-03-04        0.268041  "
      ]
     },
     "execution_count": 14,
     "metadata": {},
     "output_type": "execute_result"
    }
   ],
   "source": [
    "#Calculate the average number of tweets per day for each user\n",
    "\n",
    "tweets_per_day = []\n",
    "for index, row in tweets.iterrows() :\n",
    "    date_begin = row[\"user_creation_date_format\"]\n",
    "    date_end = row[\"date_format\"]\n",
    "    life_span = date_end-date_begin\n",
    "    if life_span.days == 0 :\n",
    "        tweets_per_day = tweets_per_day + [row[\"nb_of_tweets\"]]\n",
    "    else : \n",
    "        tweets_per_day = tweets_per_day + [row[\"nb_of_tweets\"]/life_span.days]\n",
    "\n",
    "tweets[\"tweets_per_day\"] = tweets_per_day\n",
    "tweets.head()"
   ]
  },
  {
   "cell_type": "code",
   "execution_count": 15,
   "metadata": {},
   "outputs": [
    {
     "data": {
      "text/plain": [
       "<matplotlib.axes._subplots.AxesSubplot at 0x7fe2f0fde190>"
      ]
     },
     "execution_count": 15,
     "metadata": {},
     "output_type": "execute_result"
    },
    {
     "data": {
      "image/png": "[encoded data removed]",
      "text/plain": [
       "<Figure size 432x288 with 1 Axes>"
      ]
     },
     "metadata": {
      "needs_background": "light"
     },
     "output_type": "display_data"
    }
   ],
   "source": [
    "tweets[\"tweets_per_day\"].hist()"
   ]
  },
  {
   "cell_type": "code",
   "execution_count": 16,
   "metadata": {},
   "outputs": [
    {
     "data": {
      "text/plain": [
       "<matplotlib.axes._subplots.AxesSubplot at 0x7fe2c83c7810>"
      ]
     },
     "execution_count": 16,
     "metadata": {},
     "output_type": "execute_result"
    },
    {
     "data": {
      "image/png": "[encoded data removed]",
      "text/plain": [
       "<Figure size 432x288 with 1 Axes>"
      ]
     },
     "metadata": {
      "needs_background": "light"
     },
     "output_type": "display_data"
    }
   ],
   "source": [
    "#Better vizualize the distribution\n",
    "import numpy as np\n",
    "tweets[\"cat_spammer\"] = pd.cut(tweets[\"tweets_per_day\"],\n",
    "                               bins=[0.,0.5, 1, 1.5, 2, 2.5,3, 3.5, 4, 4.5, 5 ,np.inf],\n",
    "                               labels=[0.,0.5, 1, 1.5, 2, 2.5,3, 3.5, 4, 4.5, 5])\n",
    "\n",
    "tweets[\"cat_spammer\"].hist()"
   ]
  },
  {
   "cell_type": "code",
   "execution_count": 17,
   "metadata": {},
   "outputs": [
    {
     "data": {
      "text/plain": [
       "35.73706038054996"
      ]
     },
     "execution_count": 17,
     "metadata": {},
     "output_type": "execute_result"
    }
   ],
   "source": [
    "tweets[\"tweets_per_day\"].mean()"
   ]
  },
  {
   "cell_type": "code",
   "execution_count": 18,
   "metadata": {},
   "outputs": [
    {
     "data": {
      "text/plain": [
       "4.933852216451262"
      ]
     },
     "execution_count": 18,
     "metadata": {},
     "output_type": "execute_result"
    }
   ],
   "source": [
    "tweets[\"tweets_per_day\"].median()"
   ]
  },
  {
   "cell_type": "code",
   "execution_count": 19,
   "metadata": {},
   "outputs": [
    {
     "data": {
      "text/plain": [
       "<matplotlib.axes._subplots.AxesSubplot at 0x7fe2c8493c10>"
      ]
     },
     "execution_count": 19,
     "metadata": {},
     "output_type": "execute_result"
    },
    {
     "data": {
      "image/png": "[encoded data removed]",
      "text/plain": [
       "<Figure size 432x288 with 1 Axes>"
      ]
     },
     "metadata": {
      "needs_background": "light"
     },
     "output_type": "display_data"
    }
   ],
   "source": [
    "#Verified account\n",
    "\n",
    "tweets_per_verified = tweets['verified'].value_counts()\n",
    "\n",
    "fig, ax = plt.subplots()\n",
    "ax.tick_params(axis='x', labelsize=15)\n",
    "ax.tick_params(axis='y', labelsize=10)\n",
    "ax.set_xlabel('Verified', fontsize=15)\n",
    "ax.set_ylabel('Number of tweets' , fontsize=15)\n",
    "ax.set_title('Tweets per verified categories', fontsize=15, fontweight='bold')\n",
    "tweets_per_verified.plot(ax=ax, kind='bar', color='blue')"
   ]
  },
  {
   "cell_type": "markdown",
   "metadata": {},
   "source": [
    "# Filter level "
   ]
  },
  {
   "cell_type": "code",
   "execution_count": 20,
   "metadata": {},
   "outputs": [
    {
     "data": {
      "image/png": "[encoded data removed]",
      "text/plain": [
       "<Figure size 432x288 with 1 Axes>"
      ]
     },
     "metadata": {
      "needs_background": "light"
     },
     "output_type": "display_data"
    }
   ],
   "source": [
    "tweets_per_filter = tweets['filter_level'].value_counts()\n",
    "\n",
    "fig, ax = plt.subplots()\n",
    "ax.tick_params(axis='x', labelsize=15)\n",
    "ax.tick_params(axis='y', labelsize=10)\n",
    "ax.set_xlabel('Filter level', fontsize=15)\n",
    "ax.set_ylabel('Number of tweets' , fontsize=15)\n",
    "ax.set_title('Tweets per filter level', fontsize=15, fontweight='bold')\n",
    "tweets_per_filter.plot(ax=ax, kind='bar', color='blue')\n",
    "fig.autofmt_xdate()"
   ]
  },
  {
   "cell_type": "markdown",
   "metadata": {},
   "source": [
    "# URL"
   ]
  },
  {
   "cell_type": "code",
   "execution_count": 21,
   "metadata": {},
   "outputs": [
    {
     "data": {
      "image/png": "[encoded data removed]",
      "text/plain": [
       "<Figure size 432x288 with 1 Axes>"
      ]
     },
     "metadata": {
      "needs_background": "light"
     },
     "output_type": "display_data"
    }
   ],
   "source": [
    "tweets_per_url = tweets['url'].value_counts()\n",
    "\n",
    "fig, ax = plt.subplots()\n",
    "ax.tick_params(axis='x', labelsize=15)\n",
    "ax.tick_params(axis='y', labelsize=10)\n",
    "ax.set_xlabel('URL', fontsize=15)\n",
    "ax.set_ylabel('Number of tweets' , fontsize=15)\n",
    "ax.set_title('Tweets per url presence', fontsize=15, fontweight='bold')\n",
    "tweets_per_url.plot(ax=ax, kind='bar', color='blue')\n",
    "fig.autofmt_xdate()"
   ]
  },
  {
   "cell_type": "markdown",
   "metadata": {},
   "source": [
    "# Favorite analysis"
   ]
  },
  {
   "cell_type": "code",
   "execution_count": 22,
   "metadata": {},
   "outputs": [
    {
     "data": {
      "image/png": "[encoded data removed]",
      "text/plain": [
       "<Figure size 432x288 with 1 Axes>"
      ]
     },
     "metadata": {
      "needs_background": "light"
     },
     "output_type": "display_data"
    }
   ],
   "source": [
    "#Only 0 because the stream is in live, and there is no time for others users to react\n",
    "tweets_per_favorite = tweets['favorite'].value_counts()\n",
    "\n",
    "fig, ax = plt.subplots()\n",
    "ax.tick_params(axis='x', labelsize=15)\n",
    "ax.tick_params(axis='y', labelsize=10)\n",
    "ax.set_xlabel('Favorites', fontsize=15)\n",
    "ax.set_ylabel('Number of tweets' , fontsize=15)\n",
    "ax.set_title('Tweets per favorite number', fontsize=15, fontweight='bold')\n",
    "tweets_per_favorite.plot(ax=ax, kind='bar', color='blue')\n",
    "fig.autofmt_xdate()"
   ]
  },
  {
   "cell_type": "markdown",
   "metadata": {},
   "source": [
    "# Retweet analysis"
   ]
  },
  {
   "cell_type": "code",
   "execution_count": 23,
   "metadata": {},
   "outputs": [
    {
     "data": {
      "image/png": "[encoded data removed]",
      "text/plain": [
       "<Figure size 432x288 with 1 Axes>"
      ]
     },
     "metadata": {
      "needs_background": "light"
     },
     "output_type": "display_data"
    }
   ],
   "source": [
    "#Only 0 because the stream is in live, and there is no time for others users to react\n",
    "tweets_per_retweet = tweets['retweet'].value_counts()\n",
    "\n",
    "fig, ax = plt.subplots()\n",
    "ax.tick_params(axis='x', labelsize=15)\n",
    "ax.tick_params(axis='y', labelsize=10)\n",
    "ax.set_xlabel('Retweets', fontsize=15)\n",
    "ax.set_ylabel('Number of tweets' , fontsize=15)\n",
    "ax.set_title('Tweets per retweet number', fontsize=15, fontweight='bold')\n",
    "tweets_per_retweet.plot(ax=ax, kind='bar', color='blue')\n",
    "fig.autofmt_xdate()"
   ]
  }
 ],
 "metadata": {
  "kernelspec": {
   "display_name": "Python 3",
   "language": "python",
   "name": "python3"
  },
  "language_info": {
   "codemirror_mode": {
    "name": "ipython",
    "version": 3
   },
   "file_extension": ".py",
   "mimetype": "text/x-python",
   "name": "python",
   "nbconvert_exporter": "python",
   "pygments_lexer": "ipython3",
   "version": "3.7.11"
  }
 },
 "nbformat": 4,
 "nbformat_minor": 4
}
