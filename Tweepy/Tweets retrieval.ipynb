{
 "cells": [
  {
   "cell_type": "code",
   "execution_count": 1,
   "metadata": {},
   "outputs": [],
   "source": [
    "import json\n",
    "import pandas as pd\n",
    "import matplotlib.pyplot as plt\n",
    "from tqdm.notebook import tqdm\n",
    "import pandas as pd"
   ]
  },
  {
   "cell_type": "code",
   "execution_count": 2,
   "metadata": {},
   "outputs": [],
   "source": [
    "tweets_data_path = '/Users/GuillaumeKunsch/Desktop/TFM_Guillaume_Kunsch/Tweets_Data/combined.txt'\n",
    "\n",
    "tweets_data = []\n",
    "tweets_file = open(tweets_data_path, \"r\")\n",
    "for line in tweets_file:\n",
    "    try:\n",
    "        tweet = json.loads(line)\n",
    "        tweets_data.append(tweet)\n",
    "    except:\n",
    "        continue"
   ]
  },
  {
   "cell_type": "code",
   "execution_count": 3,
   "metadata": {},
   "outputs": [
    {
     "data": {
      "text/plain": [
       "707723"
      ]
     },
     "execution_count": 3,
     "metadata": {},
     "output_type": "execute_result"
    }
   ],
   "source": [
    "len(tweets_data) #total of tweets gathered: the number will grow thinner through cleaning "
   ]
  },
  {
   "cell_type": "code",
   "execution_count": 4,
   "metadata": {
    "scrolled": false
   },
   "outputs": [
    {
     "data": {
      "text/plain": [
       "{'created_at': 'Sat Nov 21 17:30:27 +0000 2020',\n",
       " 'id': 1330201926923919362,\n",
       " 'id_str': '1330201926923919362',\n",
       " 'text': 'RT @Bloqport: JUST IN: US Treasury Office propose new rule to ban banks from denying financial services to unfavourable industries includin…',\n",
       " 'source': '<a href=\"https://mobile.twitter.com\" rel=\"nofollow\">Twitter Web App</a>',\n",
       " 'truncated': False,\n",
       " 'in_reply_to_status_id': None,\n",
       " 'in_reply_to_status_id_str': None,\n",
       " 'in_reply_to_user_id': None,\n",
       " 'in_reply_to_user_id_str': None,\n",
       " 'in_reply_to_screen_name': None,\n",
       " 'user': {'id': 1201027291,\n",
       "  'id_str': '1201027291',\n",
       "  'name': 'LiviN',\n",
       "  'screen_name': 'n_livi',\n",
       "  'location': None,\n",
       "  'url': None,\n",
       "  'description': None,\n",
       "  'translator_type': 'none',\n",
       "  'protected': False,\n",
       "  'verified': False,\n",
       "  'followers_count': 569,\n",
       "  'friends_count': 554,\n",
       "  'listed_count': 14,\n",
       "  'favourites_count': 2466,\n",
       "  'statuses_count': 25459,\n",
       "  'created_at': 'Wed Feb 20 13:23:38 +0000 2013',\n",
       "  'utc_offset': None,\n",
       "  'time_zone': None,\n",
       "  'geo_enabled': False,\n",
       "  'lang': None,\n",
       "  'contributors_enabled': False,\n",
       "  'is_translator': False,\n",
       "  'profile_background_color': 'C0DEED',\n",
       "  'profile_background_image_url': 'http://abs.twimg.com/images/themes/theme1/bg.png',\n",
       "  'profile_background_image_url_https': 'https://abs.twimg.com/images/themes/theme1/bg.png',\n",
       "  'profile_background_tile': False,\n",
       "  'profile_link_color': '1DA1F2',\n",
       "  'profile_sidebar_border_color': 'C0DEED',\n",
       "  'profile_sidebar_fill_color': 'DDEEF6',\n",
       "  'profile_text_color': '333333',\n",
       "  'profile_use_background_image': True,\n",
       "  'profile_image_url': 'http://pbs.twimg.com/profile_images/805608214226046976/FMHYx5FD_normal.jpg',\n",
       "  'profile_image_url_https': 'https://pbs.twimg.com/profile_images/805608214226046976/FMHYx5FD_normal.jpg',\n",
       "  'profile_banner_url': 'https://pbs.twimg.com/profile_banners/1201027291/1454181935',\n",
       "  'default_profile': True,\n",
       "  'default_profile_image': False,\n",
       "  'following': None,\n",
       "  'follow_request_sent': None,\n",
       "  'notifications': None},\n",
       " 'geo': None,\n",
       " 'coordinates': None,\n",
       " 'place': None,\n",
       " 'contributors': None,\n",
       " 'retweeted_status': {'created_at': 'Sat Nov 21 09:09:32 +0000 2020',\n",
       "  'id': 1330075865967943683,\n",
       "  'id_str': '1330075865967943683',\n",
       "  'text': 'JUST IN: US Treasury Office propose new rule to ban banks from denying financial services to unfavourable industrie… https://t.co/VpRyoF1X6C',\n",
       "  'source': '<a href=\"http://twitter.com/download/iphone\" rel=\"nofollow\">Twitter for iPhone</a>',\n",
       "  'truncated': True,\n",
       "  'in_reply_to_status_id': None,\n",
       "  'in_reply_to_status_id_str': None,\n",
       "  'in_reply_to_user_id': None,\n",
       "  'in_reply_to_user_id_str': None,\n",
       "  'in_reply_to_screen_name': None,\n",
       "  'user': {'id': 952169739245285376,\n",
       "   'id_str': '952169739245285376',\n",
       "   'name': 'Bloqport',\n",
       "   'screen_name': 'Bloqport',\n",
       "   'location': 'Crypto Newsletter',\n",
       "   'url': 'http://bloqport.com',\n",
       "   'description': 'Helping bitcoin & digital asset investors get straight to the news, stories, data, research & analytics that matter most. https://t.me/bloqportal',\n",
       "   'translator_type': 'none',\n",
       "   'protected': False,\n",
       "   'verified': False,\n",
       "   'followers_count': 20788,\n",
       "   'friends_count': 295,\n",
       "   'listed_count': 75,\n",
       "   'favourites_count': 12256,\n",
       "   'statuses_count': 2256,\n",
       "   'created_at': 'Sat Jan 13 13:25:31 +0000 2018',\n",
       "   'utc_offset': None,\n",
       "   'time_zone': None,\n",
       "   'geo_enabled': False,\n",
       "   'lang': None,\n",
       "   'contributors_enabled': False,\n",
       "   'is_translator': False,\n",
       "   'profile_background_color': 'F5F8FA',\n",
       "   'profile_background_image_url': '',\n",
       "   'profile_background_image_url_https': '',\n",
       "   'profile_background_tile': False,\n",
       "   'profile_link_color': '1DA1F2',\n",
       "   'profile_sidebar_border_color': 'C0DEED',\n",
       "   'profile_sidebar_fill_color': 'DDEEF6',\n",
       "   'profile_text_color': '333333',\n",
       "   'profile_use_background_image': True,\n",
       "   'profile_image_url': 'http://pbs.twimg.com/profile_images/1308312087739994114/b2Ny6_cb_normal.png',\n",
       "   'profile_image_url_https': 'https://pbs.twimg.com/profile_images/1308312087739994114/b2Ny6_cb_normal.png',\n",
       "   'profile_banner_url': 'https://pbs.twimg.com/profile_banners/952169739245285376/1600768677',\n",
       "   'default_profile': True,\n",
       "   'default_profile_image': False,\n",
       "   'following': None,\n",
       "   'follow_request_sent': None,\n",
       "   'notifications': None},\n",
       "  'geo': None,\n",
       "  'coordinates': None,\n",
       "  'place': None,\n",
       "  'contributors': None,\n",
       "  'is_quote_status': False,\n",
       "  'extended_tweet': {'full_text': 'JUST IN: US Treasury Office propose new rule to ban banks from denying financial services to unfavourable industries including cryptocurrency firms. #Bitcoin',\n",
       "   'display_text_range': [0, 157],\n",
       "   'entities': {'hashtags': [{'text': 'Bitcoin', 'indices': [149, 157]}],\n",
       "    'urls': [],\n",
       "    'user_mentions': [],\n",
       "    'symbols': []}},\n",
       "  'quote_count': 12,\n",
       "  'reply_count': 24,\n",
       "  'retweet_count': 98,\n",
       "  'favorite_count': 471,\n",
       "  'entities': {'hashtags': [],\n",
       "   'urls': [{'url': 'https://t.co/VpRyoF1X6C',\n",
       "     'expanded_url': 'https://twitter.com/i/web/status/1330075865967943683',\n",
       "     'display_url': 'twitter.com/i/web/status/1…',\n",
       "     'indices': [117, 140]}],\n",
       "   'user_mentions': [],\n",
       "   'symbols': []},\n",
       "  'favorited': False,\n",
       "  'retweeted': False,\n",
       "  'filter_level': 'low',\n",
       "  'lang': 'en'},\n",
       " 'is_quote_status': False,\n",
       " 'quote_count': 0,\n",
       " 'reply_count': 0,\n",
       " 'retweet_count': 0,\n",
       " 'favorite_count': 0,\n",
       " 'entities': {'hashtags': [],\n",
       "  'urls': [],\n",
       "  'user_mentions': [{'screen_name': 'Bloqport',\n",
       "    'name': 'Bloqport',\n",
       "    'id': 952169739245285376,\n",
       "    'id_str': '952169739245285376',\n",
       "    'indices': [3, 12]}],\n",
       "  'symbols': []},\n",
       " 'favorited': False,\n",
       " 'retweeted': False,\n",
       " 'filter_level': 'low',\n",
       " 'lang': 'en',\n",
       " 'timestamp_ms': '1605979827992'}"
      ]
     },
     "execution_count": 4,
     "metadata": {},
     "output_type": "execute_result"
    }
   ],
   "source": [
    "#in order to have an idea of how the Twitter API gives back data \n",
    "tweets_data[0]"
   ]
  },
  {
   "cell_type": "code",
   "execution_count": 5,
   "metadata": {},
   "outputs": [],
   "source": [
    "#issue where the tweets hasn't been parsed correctly \n",
    "\n",
    "for element in tweets_data:\n",
    "    if 'limit' in element:\n",
    "        del element['limit']"
   ]
  },
  {
   "cell_type": "markdown",
   "metadata": {},
   "source": [
    "3 differents methods to parse the Tweet's content :\n",
    "- ['text']\n",
    "- ['retweeted_status'][\"extended_tweet\"][\"full_text\"]\n",
    "- [\"extended_tweet\"][\"full_text\"]"
   ]
  },
  {
   "cell_type": "code",
   "execution_count": 6,
   "metadata": {},
   "outputs": [],
   "source": [
    "def get_full_text(tweets_data) : \n",
    "    all_full_text = []\n",
    "    \n",
    "    with tqdm(total=len(tweets_data)) as pbar:\n",
    "        for tweet in tweets_data : \n",
    "            pbar.update(1)\n",
    "            try :\n",
    "                try : \n",
    "                    try : \n",
    "                        full_text = tweet[\"extended_tweet\"][\"full_text\"]\n",
    "                        all_full_text = all_full_text + [full_text]\n",
    "                    except KeyError : \n",
    "                        full_text = tweet['retweeted_status'][\"extended_tweet\"][\"full_text\"]\n",
    "                        all_full_text = all_full_text + [full_text]\n",
    "                except KeyError: \n",
    "                    full_text = tweet[\"text\"]\n",
    "                    all_full_text = all_full_text + [full_text]\n",
    "            except : \n",
    "                continue \n",
    "\n",
    "    return all_full_text\n",
    "\n",
    "def get_full_lang(tweets_data) : \n",
    "    all_full_lang = []\n",
    "    with tqdm(total=len(tweets_data)) as pbar:\n",
    "        for tweet in tweets_data : \n",
    "            pbar.update(1)\n",
    "\n",
    "            try :\n",
    "                lang = tweet[\"lang\"]\n",
    "                all_full_lang = all_full_lang + [lang]\n",
    "            except : \n",
    "                continue \n",
    "            \n",
    "    return all_full_lang\n",
    "\n",
    "def get_full_country(tweets_data) : \n",
    "    all_full_country = []\n",
    "    with tqdm(total=len(tweets_data)) as pbar:\n",
    "        for tweet in tweets_data : \n",
    "            pbar.update(1)\n",
    "\n",
    "            try :\n",
    "                if tweet['place'] != None :\n",
    "                    country = tweet['place']['country']\n",
    "                else : \n",
    "                     country = None \n",
    "                all_full_country = all_full_country + [country]\n",
    "            except : \n",
    "                continue \n",
    "            \n",
    "    return all_full_country\n",
    "\n",
    "def get_full_date(tweets_data) : \n",
    "    all_full_date = []\n",
    "    with tqdm(total=len(tweets_data)) as pbar:\n",
    "        for tweet in tweets_data : \n",
    "            pbar.update(1)\n",
    "\n",
    "            try :\n",
    "                date = tweet[\"created_at\"]\n",
    "                all_full_date = all_full_date + [date]\n",
    "            except : \n",
    "                continue \n",
    "            \n",
    "    return all_full_date\n",
    "\n",
    "\n",
    "def get_full_user_name(tweets_data) : \n",
    "    all_full_user_name = []\n",
    "    \n",
    "    with tqdm(total=len(tweets_data)) as pbar:\n",
    "        for tweet in tweets_data : \n",
    "            pbar.update(1)\n",
    "\n",
    "            try :\n",
    "                user_name = tweet[\"user\"][\"name\"]\n",
    "                all_full_user_name = all_full_user_name + [user_name]\n",
    "            except : \n",
    "                continue \n",
    "         \n",
    "    return all_full_user_name\n",
    "\n",
    "def get_full_user_id(tweets_data) : \n",
    "    all_full_user_id = []\n",
    "\n",
    "    with tqdm(total=len(tweets_data)) as pbar:\n",
    "        for tweet in tweets_data : \n",
    "            pbar.update(1)\n",
    "            \n",
    "            try :\n",
    "                user_id = tweet[\"user\"][\"id_str\"]\n",
    "                all_full_user_id = all_full_user_id + [user_id]\n",
    "            except : \n",
    "                continue \n",
    "     \n",
    "    return all_full_user_id\n",
    "\n",
    "def get_full_user_tweets(tweets_data) : \n",
    "    all_full_user_tweets = []\n",
    "    \n",
    "    with tqdm(total=len(tweets_data)) as pbar:\n",
    "        for tweet in tweets_data : \n",
    "            pbar.update(1)\n",
    "            try :\n",
    "                user_tweets = tweet[\"user\"][\"statuses_count\"]\n",
    "                all_full_user_tweets = all_full_user_tweets + [user_tweets]\n",
    "            except : \n",
    "                continue \n",
    "                   \n",
    "    return all_full_user_tweets\n",
    "\n",
    "def get_full_user_date_creation(tweets_data) : \n",
    "    all_full_user_creation_date = []\n",
    "    \n",
    "    with tqdm(total=len(tweets_data)) as pbar:\n",
    "        for tweet in tweets_data : \n",
    "            pbar.update(1)\n",
    "            try :\n",
    "                user_date = tweet[\"user\"][\"created_at\"]\n",
    "                all_full_user_creation_date = all_full_user_creation_date + [user_date]\n",
    "            except : \n",
    "                continue \n",
    "                   \n",
    "    return all_full_user_creation_date\n",
    "\n",
    "\n",
    "def get_full_verification(tweets_data) : \n",
    "    all_full_verification = []\n",
    "    with tqdm(total=len(tweets_data)) as pbar:\n",
    "        for tweet in tweets_data : \n",
    "            pbar.update(1)\n",
    "            try :\n",
    "                if tweet[\"user\"][\"verified\"] == True :\n",
    "                    all_full_verification = all_full_verification +[1]\n",
    "                else : \n",
    "                    all_full_verification = all_full_verification +[0]\n",
    "            except : \n",
    "                continue \n",
    "                \n",
    "    return all_full_verification\n",
    "\n",
    "\n",
    "def get_full_tweet_filter_level(tweets_data) : \n",
    "    all_full_filter_level = []\n",
    "    \n",
    "    with tqdm(total=len(tweets_data)) as pbar:\n",
    "        for tweet in tweets_data : \n",
    "            pbar.update(1)\n",
    "\n",
    "            try :\n",
    "                filter_level = tweet[\"filter_level\"]\n",
    "                all_full_filter_level = all_full_filter_level + [filter_level]\n",
    "            except : \n",
    "                continue \n",
    "                   \n",
    "    return all_full_filter_level\n",
    "\n",
    "def get_full_tweet_favorites(tweets_data) : \n",
    "    all_full_favorite_count = []\n",
    "    \n",
    "    with tqdm(total=len(tweets_data)) as pbar:\n",
    "        for tweet in tweets_data : \n",
    "            pbar.update(1)\n",
    "            try :\n",
    "                fav_count = tweet[\"favorite_count\"]\n",
    "                all_full_favorite_count = all_full_favorite_count + [fav_count]\n",
    "            except : \n",
    "                continue \n",
    "                      \n",
    "    return all_full_favorite_count\n",
    "\n",
    "def get_full_tweet_retweets(tweets_data) : \n",
    "    all_full_retweet_count = []\n",
    "\n",
    "    with tqdm(total=len(tweets_data)) as pbar:\n",
    "        for tweet in tweets_data : \n",
    "            pbar.update(1)\n",
    "            try :\n",
    "                retweet_count = tweet[\"retweet_count\"]\n",
    "                all_full_retweet_count = all_full_retweet_count + [retweet_count]\n",
    "            except : \n",
    "                continue \n",
    "                   \n",
    "    return all_full_retweet_count\n",
    "\n",
    "def get_full_tweet_url(tweets_data) : \n",
    "    all_full_url = []\n",
    "    \n",
    "    with tqdm(total=len(tweets_data)) as pbar:\n",
    "        for tweet in tweets_data : \n",
    "            pbar.update(1)\n",
    "  \n",
    "            try :\n",
    "                if tweet[\"entities\"][\"urls\"] == [] :\n",
    "                    all_full_url = all_full_url + [0]\n",
    "                else : \n",
    "                    all_full_url = all_full_url + [1]\n",
    "                \n",
    "                \n",
    "            except : \n",
    "                continue \n",
    "                   \n",
    "    return all_full_url"
   ]
  },
  {
   "cell_type": "code",
   "execution_count": 7,
   "metadata": {},
   "outputs": [
    {
     "data": {
      "application/vnd.jupyter.widget-view+json": {
       "model_id": "2565c06a7e8b48bcbcd35cfbd0f35714",
       "version_major": 2,
       "version_minor": 0
      },
      "text/plain": [
       "HBox(children=(FloatProgress(value=0.0, max=707723.0), HTML(value='')))"
      ]
     },
     "metadata": {},
     "output_type": "display_data"
    },
    {
     "name": "stdout",
     "output_type": "stream",
     "text": [
      "\n"
     ]
    },
    {
     "data": {
      "application/vnd.jupyter.widget-view+json": {
       "model_id": "2e06ffb6d1e44a6da70edd74ae2e0b3f",
       "version_major": 2,
       "version_minor": 0
      },
      "text/plain": [
       "HBox(children=(FloatProgress(value=0.0, max=707723.0), HTML(value='')))"
      ]
     },
     "metadata": {},
     "output_type": "display_data"
    },
    {
     "name": "stdout",
     "output_type": "stream",
     "text": [
      "\n"
     ]
    },
    {
     "data": {
      "application/vnd.jupyter.widget-view+json": {
       "model_id": "9ece220bf8804090974909d369b6bfeb",
       "version_major": 2,
       "version_minor": 0
      },
      "text/plain": [
       "HBox(children=(FloatProgress(value=0.0, max=707723.0), HTML(value='')))"
      ]
     },
     "metadata": {},
     "output_type": "display_data"
    },
    {
     "name": "stdout",
     "output_type": "stream",
     "text": [
      "\n"
     ]
    },
    {
     "data": {
      "application/vnd.jupyter.widget-view+json": {
       "model_id": "e1d1afdc8b5248c7872f596d38f25d39",
       "version_major": 2,
       "version_minor": 0
      },
      "text/plain": [
       "HBox(children=(FloatProgress(value=0.0, max=707723.0), HTML(value='')))"
      ]
     },
     "metadata": {},
     "output_type": "display_data"
    },
    {
     "name": "stdout",
     "output_type": "stream",
     "text": [
      "\n"
     ]
    },
    {
     "data": {
      "application/vnd.jupyter.widget-view+json": {
       "model_id": "0cd6335a2ccc4011a164241f865e61fd",
       "version_major": 2,
       "version_minor": 0
      },
      "text/plain": [
       "HBox(children=(FloatProgress(value=0.0, max=707723.0), HTML(value='')))"
      ]
     },
     "metadata": {},
     "output_type": "display_data"
    },
    {
     "name": "stdout",
     "output_type": "stream",
     "text": [
      "\n"
     ]
    },
    {
     "data": {
      "application/vnd.jupyter.widget-view+json": {
       "model_id": "ef227ea4d51d4ff88d2baed38fc13f15",
       "version_major": 2,
       "version_minor": 0
      },
      "text/plain": [
       "HBox(children=(FloatProgress(value=0.0, max=707723.0), HTML(value='')))"
      ]
     },
     "metadata": {},
     "output_type": "display_data"
    },
    {
     "name": "stdout",
     "output_type": "stream",
     "text": [
      "\n"
     ]
    },
    {
     "data": {
      "application/vnd.jupyter.widget-view+json": {
       "model_id": "52b0e4344dc9408faeae1bd39ae6890c",
       "version_major": 2,
       "version_minor": 0
      },
      "text/plain": [
       "HBox(children=(FloatProgress(value=0.0, max=707723.0), HTML(value='')))"
      ]
     },
     "metadata": {},
     "output_type": "display_data"
    },
    {
     "name": "stdout",
     "output_type": "stream",
     "text": [
      "\n"
     ]
    },
    {
     "data": {
      "application/vnd.jupyter.widget-view+json": {
       "model_id": "51fb4212b1a74cc58d8bf6bbf68af2cc",
       "version_major": 2,
       "version_minor": 0
      },
      "text/plain": [
       "HBox(children=(FloatProgress(value=0.0, max=707723.0), HTML(value='')))"
      ]
     },
     "metadata": {},
     "output_type": "display_data"
    },
    {
     "name": "stdout",
     "output_type": "stream",
     "text": [
      "\n"
     ]
    },
    {
     "data": {
      "application/vnd.jupyter.widget-view+json": {
       "model_id": "32d3e57dcc504b4d8b227a1b6c351801",
       "version_major": 2,
       "version_minor": 0
      },
      "text/plain": [
       "HBox(children=(FloatProgress(value=0.0, max=707723.0), HTML(value='')))"
      ]
     },
     "metadata": {},
     "output_type": "display_data"
    },
    {
     "name": "stdout",
     "output_type": "stream",
     "text": [
      "\n"
     ]
    },
    {
     "data": {
      "application/vnd.jupyter.widget-view+json": {
       "model_id": "03cc0bf59e7848aba31cec1cc4b5157b",
       "version_major": 2,
       "version_minor": 0
      },
      "text/plain": [
       "HBox(children=(FloatProgress(value=0.0, max=707723.0), HTML(value='')))"
      ]
     },
     "metadata": {},
     "output_type": "display_data"
    },
    {
     "name": "stdout",
     "output_type": "stream",
     "text": [
      "\n"
     ]
    },
    {
     "data": {
      "application/vnd.jupyter.widget-view+json": {
       "model_id": "10721ab2f2464b4688af8c37ecfc192a",
       "version_major": 2,
       "version_minor": 0
      },
      "text/plain": [
       "HBox(children=(FloatProgress(value=0.0, max=707723.0), HTML(value='')))"
      ]
     },
     "metadata": {},
     "output_type": "display_data"
    },
    {
     "name": "stdout",
     "output_type": "stream",
     "text": [
      "\n"
     ]
    },
    {
     "data": {
      "application/vnd.jupyter.widget-view+json": {
       "model_id": "62004e60e4ee4809898c225c8db982b3",
       "version_major": 2,
       "version_minor": 0
      },
      "text/plain": [
       "HBox(children=(FloatProgress(value=0.0, max=707723.0), HTML(value='')))"
      ]
     },
     "metadata": {},
     "output_type": "display_data"
    },
    {
     "name": "stdout",
     "output_type": "stream",
     "text": [
      "\n"
     ]
    },
    {
     "data": {
      "application/vnd.jupyter.widget-view+json": {
       "model_id": "a1237141d1284ed2ae6f06a8a05b8c3d",
       "version_major": 2,
       "version_minor": 0
      },
      "text/plain": [
       "HBox(children=(FloatProgress(value=0.0, max=707723.0), HTML(value='')))"
      ]
     },
     "metadata": {},
     "output_type": "display_data"
    },
    {
     "name": "stdout",
     "output_type": "stream",
     "text": [
      "\n"
     ]
    }
   ],
   "source": [
    "#Long treatment (approx 10 hours on my computer), optimization would require to load balance on CPU \n",
    "text = get_full_text(tweets_data) \n",
    "lang = get_full_lang(tweets_data)  \n",
    "country = get_full_country(tweets_data)\n",
    "date = get_full_date(tweets_data)\n",
    "\n",
    "user_name = get_full_user_name(tweets_data)\n",
    "user_id = get_full_user_id(tweets_data)\n",
    "user_tweets = get_full_user_tweets(tweets_data)\n",
    "user_creation_date = get_full_user_date_creation(tweets_data)\n",
    "verified = get_full_verification(tweets_data)\n",
    "\n",
    "filter_level = get_full_tweet_filter_level(tweets_data)\n",
    "favorite = get_full_tweet_favorites(tweets_data)\n",
    "retweet = get_full_tweet_retweets(tweets_data)\n",
    "url = get_full_tweet_url(tweets_data)"
   ]
  },
  {
   "cell_type": "code",
   "execution_count": 8,
   "metadata": {},
   "outputs": [
    {
     "data": {
      "text/html": [
       "<div>\n",
       "<style scoped>\n",
       "    .dataframe tbody tr th:only-of-type {\n",
       "        vertical-align: middle;\n",
       "    }\n",
       "\n",
       "    .dataframe tbody tr th {\n",
       "        vertical-align: top;\n",
       "    }\n",
       "\n",
       "    .dataframe thead th {\n",
       "        text-align: right;\n",
       "    }\n",
       "</style>\n",
       "<table border=\"1\" class=\"dataframe\">\n",
       "  <thead>\n",
       "    <tr style=\"text-align: right;\">\n",
       "      <th></th>\n",
       "      <th>text</th>\n",
       "      <th>lang</th>\n",
       "      <th>country</th>\n",
       "      <th>date</th>\n",
       "      <th>user_name</th>\n",
       "      <th>user_id</th>\n",
       "      <th>nb_of_tweets</th>\n",
       "      <th>user_creation_date</th>\n",
       "      <th>verified</th>\n",
       "      <th>filter_level</th>\n",
       "      <th>favorite</th>\n",
       "      <th>retweet</th>\n",
       "      <th>url</th>\n",
       "    </tr>\n",
       "  </thead>\n",
       "  <tbody>\n",
       "    <tr>\n",
       "      <th>0</th>\n",
       "      <td>JUST IN: US Treasury Office propose new rule t...</td>\n",
       "      <td>en</td>\n",
       "      <td>None</td>\n",
       "      <td>Sat Nov 21 17:30:27 +0000 2020</td>\n",
       "      <td>LiviN</td>\n",
       "      <td>1201027291</td>\n",
       "      <td>25459</td>\n",
       "      <td>Wed Feb 20 13:23:38 +0000 2013</td>\n",
       "      <td>0</td>\n",
       "      <td>low</td>\n",
       "      <td>0</td>\n",
       "      <td>0</td>\n",
       "      <td>0</td>\n",
       "    </tr>\n",
       "    <tr>\n",
       "      <th>1</th>\n",
       "      <td>The Bullish Case for #Bitcoin\\n@real_vijay \\n👉...</td>\n",
       "      <td>en</td>\n",
       "      <td>None</td>\n",
       "      <td>Sat Nov 21 17:30:28 +0000 2020</td>\n",
       "      <td>StormJib.HODL</td>\n",
       "      <td>15893397</td>\n",
       "      <td>3313</td>\n",
       "      <td>Mon Aug 18 16:31:04 +0000 2008</td>\n",
       "      <td>0</td>\n",
       "      <td>low</td>\n",
       "      <td>0</td>\n",
       "      <td>0</td>\n",
       "      <td>1</td>\n",
       "    </tr>\n",
       "    <tr>\n",
       "      <th>2</th>\n",
       "      <td>BITCOIN MOONING STEP BY STEP UPWARD TO $26,000...</td>\n",
       "      <td>en</td>\n",
       "      <td>None</td>\n",
       "      <td>Sat Nov 21 17:30:28 +0000 2020</td>\n",
       "      <td>George Fish</td>\n",
       "      <td>109361772</td>\n",
       "      <td>39</td>\n",
       "      <td>Thu Jan 28 20:23:57 +0000 2010</td>\n",
       "      <td>0</td>\n",
       "      <td>low</td>\n",
       "      <td>0</td>\n",
       "      <td>0</td>\n",
       "      <td>1</td>\n",
       "    </tr>\n",
       "    <tr>\n",
       "      <th>3</th>\n",
       "      <td>RT @Thunderblunder7: pokemon showdown was made...</td>\n",
       "      <td>en</td>\n",
       "      <td>None</td>\n",
       "      <td>Sat Nov 21 17:30:28 +0000 2020</td>\n",
       "      <td>Brandon 🐝🌳🇬🇭🖤 #JoyconBoy</td>\n",
       "      <td>1027954637331202049</td>\n",
       "      <td>67326</td>\n",
       "      <td>Fri Aug 10 16:27:38 +0000 2018</td>\n",
       "      <td>0</td>\n",
       "      <td>low</td>\n",
       "      <td>0</td>\n",
       "      <td>0</td>\n",
       "      <td>0</td>\n",
       "    </tr>\n",
       "    <tr>\n",
       "      <th>4</th>\n",
       "      <td>I recently discussed inflation/deflation, stim...</td>\n",
       "      <td>en</td>\n",
       "      <td>None</td>\n",
       "      <td>Sat Nov 21 17:30:28 +0000 2020</td>\n",
       "      <td>Altperspective</td>\n",
       "      <td>837994867028459521</td>\n",
       "      <td>364</td>\n",
       "      <td>Sat Mar 04 11:55:20 +0000 2017</td>\n",
       "      <td>0</td>\n",
       "      <td>low</td>\n",
       "      <td>0</td>\n",
       "      <td>0</td>\n",
       "      <td>0</td>\n",
       "    </tr>\n",
       "    <tr>\n",
       "      <th>...</th>\n",
       "      <td>...</td>\n",
       "      <td>...</td>\n",
       "      <td>...</td>\n",
       "      <td>...</td>\n",
       "      <td>...</td>\n",
       "      <td>...</td>\n",
       "      <td>...</td>\n",
       "      <td>...</td>\n",
       "      <td>...</td>\n",
       "      <td>...</td>\n",
       "      <td>...</td>\n",
       "      <td>...</td>\n",
       "      <td>...</td>\n",
       "    </tr>\n",
       "    <tr>\n",
       "      <th>707713</th>\n",
       "      <td>RT @MMCrypto: #BITCOIN JUST BROKE THE 2019 HIG...</td>\n",
       "      <td>en</td>\n",
       "      <td>None</td>\n",
       "      <td>Sat Oct 31 11:49:43 +0000 2020</td>\n",
       "      <td>cryptoboss💥</td>\n",
       "      <td>4160950469</td>\n",
       "      <td>5946</td>\n",
       "      <td>Wed Nov 11 03:00:06 +0000 2015</td>\n",
       "      <td>0</td>\n",
       "      <td>low</td>\n",
       "      <td>0</td>\n",
       "      <td>0</td>\n",
       "      <td>0</td>\n",
       "    </tr>\n",
       "    <tr>\n",
       "      <th>707714</th>\n",
       "      <td>Sana all whale 👀</td>\n",
       "      <td>en</td>\n",
       "      <td>None</td>\n",
       "      <td>Sat Oct 31 11:49:43 +0000 2020</td>\n",
       "      <td>Jazz G🍀</td>\n",
       "      <td>996004058640007169</td>\n",
       "      <td>10411</td>\n",
       "      <td>Mon May 14 12:27:27 +0000 2018</td>\n",
       "      <td>0</td>\n",
       "      <td>low</td>\n",
       "      <td>0</td>\n",
       "      <td>0</td>\n",
       "      <td>0</td>\n",
       "    </tr>\n",
       "    <tr>\n",
       "      <th>707715</th>\n",
       "      <td>RT @BarrySilbert: Hi @stoolpresidente, please ...</td>\n",
       "      <td>en</td>\n",
       "      <td>None</td>\n",
       "      <td>Sat Oct 31 11:49:43 +0000 2020</td>\n",
       "      <td>Светик Алимова</td>\n",
       "      <td>926774522161782785</td>\n",
       "      <td>78</td>\n",
       "      <td>Sat Nov 04 11:33:59 +0000 2017</td>\n",
       "      <td>0</td>\n",
       "      <td>low</td>\n",
       "      <td>0</td>\n",
       "      <td>0</td>\n",
       "      <td>0</td>\n",
       "    </tr>\n",
       "    <tr>\n",
       "      <th>707716</th>\n",
       "      <td>RT @100trillionUSD: Best present on #Bitcoin w...</td>\n",
       "      <td>en</td>\n",
       "      <td>None</td>\n",
       "      <td>Sat Oct 31 11:49:43 +0000 2020</td>\n",
       "      <td>Loedere.eth 🇧🇪 - ₿</td>\n",
       "      <td>420490529</td>\n",
       "      <td>7707</td>\n",
       "      <td>Thu Nov 24 18:03:50 +0000 2011</td>\n",
       "      <td>0</td>\n",
       "      <td>low</td>\n",
       "      <td>0</td>\n",
       "      <td>0</td>\n",
       "      <td>0</td>\n",
       "    </tr>\n",
       "    <tr>\n",
       "      <th>707717</th>\n",
       "      <td>#Bitcoin price on 31st Oct (whitepaper day 🎉)\\...</td>\n",
       "      <td>en</td>\n",
       "      <td>None</td>\n",
       "      <td>Sat Oct 31 11:49:43 +0000 2020</td>\n",
       "      <td>Alberto Bacó</td>\n",
       "      <td>1090641704</td>\n",
       "      <td>31559</td>\n",
       "      <td>Tue Jan 15 01:01:24 +0000 2013</td>\n",
       "      <td>0</td>\n",
       "      <td>low</td>\n",
       "      <td>0</td>\n",
       "      <td>0</td>\n",
       "      <td>0</td>\n",
       "    </tr>\n",
       "  </tbody>\n",
       "</table>\n",
       "<p>707718 rows × 13 columns</p>\n",
       "</div>"
      ],
      "text/plain": [
       "                                                     text lang country  \\\n",
       "0       JUST IN: US Treasury Office propose new rule t...   en    None   \n",
       "1       The Bullish Case for #Bitcoin\\n@real_vijay \\n👉...   en    None   \n",
       "2       BITCOIN MOONING STEP BY STEP UPWARD TO $26,000...   en    None   \n",
       "3       RT @Thunderblunder7: pokemon showdown was made...   en    None   \n",
       "4       I recently discussed inflation/deflation, stim...   en    None   \n",
       "...                                                   ...  ...     ...   \n",
       "707713  RT @MMCrypto: #BITCOIN JUST BROKE THE 2019 HIG...   en    None   \n",
       "707714                                   Sana all whale 👀   en    None   \n",
       "707715  RT @BarrySilbert: Hi @stoolpresidente, please ...   en    None   \n",
       "707716  RT @100trillionUSD: Best present on #Bitcoin w...   en    None   \n",
       "707717  #Bitcoin price on 31st Oct (whitepaper day 🎉)\\...   en    None   \n",
       "\n",
       "                                  date                 user_name  \\\n",
       "0       Sat Nov 21 17:30:27 +0000 2020                     LiviN   \n",
       "1       Sat Nov 21 17:30:28 +0000 2020             StormJib.HODL   \n",
       "2       Sat Nov 21 17:30:28 +0000 2020               George Fish   \n",
       "3       Sat Nov 21 17:30:28 +0000 2020  Brandon 🐝🌳🇬🇭🖤 #JoyconBoy   \n",
       "4       Sat Nov 21 17:30:28 +0000 2020            Altperspective   \n",
       "...                                ...                       ...   \n",
       "707713  Sat Oct 31 11:49:43 +0000 2020               cryptoboss💥   \n",
       "707714  Sat Oct 31 11:49:43 +0000 2020                   Jazz G🍀   \n",
       "707715  Sat Oct 31 11:49:43 +0000 2020            Светик Алимова   \n",
       "707716  Sat Oct 31 11:49:43 +0000 2020        Loedere.eth 🇧🇪 - ₿   \n",
       "707717  Sat Oct 31 11:49:43 +0000 2020              Alberto Bacó   \n",
       "\n",
       "                    user_id  nb_of_tweets              user_creation_date  \\\n",
       "0                1201027291         25459  Wed Feb 20 13:23:38 +0000 2013   \n",
       "1                  15893397          3313  Mon Aug 18 16:31:04 +0000 2008   \n",
       "2                 109361772            39  Thu Jan 28 20:23:57 +0000 2010   \n",
       "3       1027954637331202049         67326  Fri Aug 10 16:27:38 +0000 2018   \n",
       "4        837994867028459521           364  Sat Mar 04 11:55:20 +0000 2017   \n",
       "...                     ...           ...                             ...   \n",
       "707713           4160950469          5946  Wed Nov 11 03:00:06 +0000 2015   \n",
       "707714   996004058640007169         10411  Mon May 14 12:27:27 +0000 2018   \n",
       "707715   926774522161782785            78  Sat Nov 04 11:33:59 +0000 2017   \n",
       "707716            420490529          7707  Thu Nov 24 18:03:50 +0000 2011   \n",
       "707717           1090641704         31559  Tue Jan 15 01:01:24 +0000 2013   \n",
       "\n",
       "        verified filter_level  favorite  retweet  url  \n",
       "0              0          low         0        0    0  \n",
       "1              0          low         0        0    1  \n",
       "2              0          low         0        0    1  \n",
       "3              0          low         0        0    0  \n",
       "4              0          low         0        0    0  \n",
       "...          ...          ...       ...      ...  ...  \n",
       "707713         0          low         0        0    0  \n",
       "707714         0          low         0        0    0  \n",
       "707715         0          low         0        0    0  \n",
       "707716         0          low         0        0    0  \n",
       "707717         0          low         0        0    0  \n",
       "\n",
       "[707718 rows x 13 columns]"
      ]
     },
     "execution_count": 8,
     "metadata": {},
     "output_type": "execute_result"
    }
   ],
   "source": [
    "tweets = pd.DataFrame()#only 5 messages weren't parsed correctly (negligible but needed to take care of it in the treatment)\n",
    "tweets[\"text\"] = text\n",
    "tweets[\"lang\"] = lang\n",
    "tweets[\"country\"] = country\n",
    "tweets[\"date\"] = date\n",
    "\n",
    "tweets[\"user_name\"] = user_name\n",
    "tweets[\"user_id\"] = user_id\n",
    "tweets[\"nb_of_tweets\"] = user_tweets\n",
    "tweets[\"user_creation_date\"] = user_creation_date\n",
    "tweets[\"verified\"] = verified\n",
    "\n",
    "\n",
    "tweets[\"filter_level\"] = filter_level\n",
    "tweets[\"favorite\"] = favorite\n",
    "tweets[\"retweet\"] = retweet\n",
    "tweets[\"url\"] = url\n",
    "\n",
    "tweets"
   ]
  },
  {
   "cell_type": "code",
   "execution_count": 9,
   "metadata": {},
   "outputs": [
    {
     "name": "stdout",
     "output_type": "stream",
     "text": [
      "<class 'pandas.core.frame.DataFrame'>\n",
      "RangeIndex: 707718 entries, 0 to 707717\n",
      "Data columns (total 13 columns):\n",
      " #   Column              Non-Null Count   Dtype \n",
      "---  ------              --------------   ----- \n",
      " 0   text                707718 non-null  object\n",
      " 1   lang                707718 non-null  object\n",
      " 2   country             2487 non-null    object\n",
      " 3   date                707718 non-null  object\n",
      " 4   user_name           707718 non-null  object\n",
      " 5   user_id             707718 non-null  object\n",
      " 6   nb_of_tweets        707718 non-null  int64 \n",
      " 7   user_creation_date  707718 non-null  object\n",
      " 8   verified            707718 non-null  int64 \n",
      " 9   filter_level        707718 non-null  object\n",
      " 10  favorite            707718 non-null  int64 \n",
      " 11  retweet             707718 non-null  int64 \n",
      " 12  url                 707718 non-null  int64 \n",
      "dtypes: int64(5), object(8)\n",
      "memory usage: 70.2+ MB\n"
     ]
    }
   ],
   "source": [
    "tweets.info()"
   ]
  },
  {
   "cell_type": "code",
   "execution_count": 10,
   "metadata": {},
   "outputs": [],
   "source": [
    "tweets.to_csv(path_or_buf = \"tweets.csv\", index = False, header = True, encoding='utf-8', sep = \"\\t\")"
   ]
  },
  {
   "cell_type": "code",
   "execution_count": 11,
   "metadata": {},
   "outputs": [],
   "source": [
    "tweets.to_excel(\"tweets.xlsx\", header = True, index = False, na_rep = \"None\")"
   ]
  }
 ],
 "metadata": {
  "kernelspec": {
   "display_name": "Python 3",
   "language": "python",
   "name": "python3"
  },
  "language_info": {
   "codemirror_mode": {
    "name": "ipython",
    "version": 3
   },
   "file_extension": ".py",
   "mimetype": "text/x-python",
   "name": "python",
   "nbconvert_exporter": "python",
   "pygments_lexer": "ipython3",
   "version": "3.7.11"
  }
 },
 "nbformat": 4,
 "nbformat_minor": 4
}
